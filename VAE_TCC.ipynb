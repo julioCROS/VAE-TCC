{
  "cells": [
    {
      "cell_type": "code",
      "execution_count": null,
      "metadata": {
        "colab": {
          "base_uri": "https://localhost:8080/"
        },
        "id": "uZhsIc2qLor1",
        "outputId": "cf45c122-9164-4bd5-b729-ff48bebe8140"
      },
      "outputs": [
        {
          "output_type": "stream",
          "name": "stdout",
          "text": [
            "Mounted at /content/drive\n"
          ]
        }
      ],
      "source": [
        "# Montando Drive\n",
        "from google.colab import drive\n",
        "drive.mount('/content/drive')"
      ]
    },
    {
      "cell_type": "code",
      "execution_count": null,
      "metadata": {
        "id": "-8pC33zCMVdb"
      },
      "outputs": [],
      "source": [
        "# Definindo diretório padrão deste notebook\n",
        "import sys\n",
        "base_path = \"/content/drive/MyDrive/VAE_TCC\"\n",
        "sys.path.append(base_path)"
      ]
    },
    {
      "cell_type": "code",
      "execution_count": null,
      "metadata": {
        "collapsed": true,
        "id": "ZGjOC5nBWWwN",
        "colab": {
          "base_uri": "https://localhost:8080/"
        },
        "outputId": "67828764-d2e8-4b5d-990d-207f1f9d22de"
      },
      "outputs": [
        {
          "output_type": "stream",
          "name": "stdout",
          "text": [
            "Requirement already satisfied: tensorflow in /usr/local/lib/python3.10/dist-packages (2.17.1)\n",
            "Requirement already satisfied: absl-py>=1.0.0 in /usr/local/lib/python3.10/dist-packages (from tensorflow) (1.4.0)\n",
            "Requirement already satisfied: astunparse>=1.6.0 in /usr/local/lib/python3.10/dist-packages (from tensorflow) (1.6.3)\n",
            "Requirement already satisfied: flatbuffers>=24.3.25 in /usr/local/lib/python3.10/dist-packages (from tensorflow) (24.3.25)\n",
            "Requirement already satisfied: gast!=0.5.0,!=0.5.1,!=0.5.2,>=0.2.1 in /usr/local/lib/python3.10/dist-packages (from tensorflow) (0.6.0)\n",
            "Requirement already satisfied: google-pasta>=0.1.1 in /usr/local/lib/python3.10/dist-packages (from tensorflow) (0.2.0)\n",
            "Requirement already satisfied: h5py>=3.10.0 in /usr/local/lib/python3.10/dist-packages (from tensorflow) (3.12.1)\n",
            "Requirement already satisfied: libclang>=13.0.0 in /usr/local/lib/python3.10/dist-packages (from tensorflow) (18.1.1)\n",
            "Requirement already satisfied: ml-dtypes<0.5.0,>=0.3.1 in /usr/local/lib/python3.10/dist-packages (from tensorflow) (0.4.1)\n",
            "Requirement already satisfied: opt-einsum>=2.3.2 in /usr/local/lib/python3.10/dist-packages (from tensorflow) (3.4.0)\n",
            "Requirement already satisfied: packaging in /usr/local/lib/python3.10/dist-packages (from tensorflow) (24.2)\n",
            "Requirement already satisfied: protobuf!=4.21.0,!=4.21.1,!=4.21.2,!=4.21.3,!=4.21.4,!=4.21.5,<5.0.0dev,>=3.20.3 in /usr/local/lib/python3.10/dist-packages (from tensorflow) (4.25.5)\n",
            "Requirement already satisfied: requests<3,>=2.21.0 in /usr/local/lib/python3.10/dist-packages (from tensorflow) (2.32.3)\n",
            "Requirement already satisfied: setuptools in /usr/local/lib/python3.10/dist-packages (from tensorflow) (75.1.0)\n",
            "Requirement already satisfied: six>=1.12.0 in /usr/local/lib/python3.10/dist-packages (from tensorflow) (1.16.0)\n",
            "Requirement already satisfied: termcolor>=1.1.0 in /usr/local/lib/python3.10/dist-packages (from tensorflow) (2.5.0)\n",
            "Requirement already satisfied: typing-extensions>=3.6.6 in /usr/local/lib/python3.10/dist-packages (from tensorflow) (4.12.2)\n",
            "Requirement already satisfied: wrapt>=1.11.0 in /usr/local/lib/python3.10/dist-packages (from tensorflow) (1.16.0)\n",
            "Requirement already satisfied: grpcio<2.0,>=1.24.3 in /usr/local/lib/python3.10/dist-packages (from tensorflow) (1.68.0)\n",
            "Requirement already satisfied: tensorboard<2.18,>=2.17 in /usr/local/lib/python3.10/dist-packages (from tensorflow) (2.17.1)\n",
            "Requirement already satisfied: keras>=3.2.0 in /usr/local/lib/python3.10/dist-packages (from tensorflow) (3.5.0)\n",
            "Requirement already satisfied: tensorflow-io-gcs-filesystem>=0.23.1 in /usr/local/lib/python3.10/dist-packages (from tensorflow) (0.37.1)\n",
            "Requirement already satisfied: numpy<2.0.0,>=1.23.5 in /usr/local/lib/python3.10/dist-packages (from tensorflow) (1.26.4)\n",
            "Requirement already satisfied: wheel<1.0,>=0.23.0 in /usr/local/lib/python3.10/dist-packages (from astunparse>=1.6.0->tensorflow) (0.45.0)\n",
            "Requirement already satisfied: rich in /usr/local/lib/python3.10/dist-packages (from keras>=3.2.0->tensorflow) (13.9.4)\n",
            "Requirement already satisfied: namex in /usr/local/lib/python3.10/dist-packages (from keras>=3.2.0->tensorflow) (0.0.8)\n",
            "Requirement already satisfied: optree in /usr/local/lib/python3.10/dist-packages (from keras>=3.2.0->tensorflow) (0.13.1)\n",
            "Requirement already satisfied: charset-normalizer<4,>=2 in /usr/local/lib/python3.10/dist-packages (from requests<3,>=2.21.0->tensorflow) (3.4.0)\n",
            "Requirement already satisfied: idna<4,>=2.5 in /usr/local/lib/python3.10/dist-packages (from requests<3,>=2.21.0->tensorflow) (3.10)\n",
            "Requirement already satisfied: urllib3<3,>=1.21.1 in /usr/local/lib/python3.10/dist-packages (from requests<3,>=2.21.0->tensorflow) (2.2.3)\n",
            "Requirement already satisfied: certifi>=2017.4.17 in /usr/local/lib/python3.10/dist-packages (from requests<3,>=2.21.0->tensorflow) (2024.8.30)\n",
            "Requirement already satisfied: markdown>=2.6.8 in /usr/local/lib/python3.10/dist-packages (from tensorboard<2.18,>=2.17->tensorflow) (3.7)\n",
            "Requirement already satisfied: tensorboard-data-server<0.8.0,>=0.7.0 in /usr/local/lib/python3.10/dist-packages (from tensorboard<2.18,>=2.17->tensorflow) (0.7.2)\n",
            "Requirement already satisfied: werkzeug>=1.0.1 in /usr/local/lib/python3.10/dist-packages (from tensorboard<2.18,>=2.17->tensorflow) (3.1.3)\n",
            "Requirement already satisfied: MarkupSafe>=2.1.1 in /usr/local/lib/python3.10/dist-packages (from werkzeug>=1.0.1->tensorboard<2.18,>=2.17->tensorflow) (3.0.2)\n",
            "Requirement already satisfied: markdown-it-py>=2.2.0 in /usr/local/lib/python3.10/dist-packages (from rich->keras>=3.2.0->tensorflow) (3.0.0)\n",
            "Requirement already satisfied: pygments<3.0.0,>=2.13.0 in /usr/local/lib/python3.10/dist-packages (from rich->keras>=3.2.0->tensorflow) (2.18.0)\n",
            "Requirement already satisfied: mdurl~=0.1 in /usr/local/lib/python3.10/dist-packages (from markdown-it-py>=2.2.0->rich->keras>=3.2.0->tensorflow) (0.1.2)\n",
            "Requirement already satisfied: soundfile in /usr/local/lib/python3.10/dist-packages (0.12.1)\n",
            "Requirement already satisfied: cffi>=1.0 in /usr/local/lib/python3.10/dist-packages (from soundfile) (1.17.1)\n",
            "Requirement already satisfied: pycparser in /usr/local/lib/python3.10/dist-packages (from cffi>=1.0->soundfile) (2.22)\n",
            "Requirement already satisfied: auraloss in /usr/local/lib/python3.10/dist-packages (0.4.0)\n",
            "Requirement already satisfied: torch in /usr/local/lib/python3.10/dist-packages (from auraloss) (2.5.1+cu121)\n",
            "Requirement already satisfied: numpy in /usr/local/lib/python3.10/dist-packages (from auraloss) (1.26.4)\n",
            "Requirement already satisfied: filelock in /usr/local/lib/python3.10/dist-packages (from torch->auraloss) (3.16.1)\n",
            "Requirement already satisfied: typing-extensions>=4.8.0 in /usr/local/lib/python3.10/dist-packages (from torch->auraloss) (4.12.2)\n",
            "Requirement already satisfied: networkx in /usr/local/lib/python3.10/dist-packages (from torch->auraloss) (3.4.2)\n",
            "Requirement already satisfied: jinja2 in /usr/local/lib/python3.10/dist-packages (from torch->auraloss) (3.1.4)\n",
            "Requirement already satisfied: fsspec in /usr/local/lib/python3.10/dist-packages (from torch->auraloss) (2024.10.0)\n",
            "Requirement already satisfied: sympy==1.13.1 in /usr/local/lib/python3.10/dist-packages (from torch->auraloss) (1.13.1)\n",
            "Requirement already satisfied: mpmath<1.4,>=1.1.0 in /usr/local/lib/python3.10/dist-packages (from sympy==1.13.1->torch->auraloss) (1.3.0)\n",
            "Requirement already satisfied: MarkupSafe>=2.0 in /usr/local/lib/python3.10/dist-packages (from jinja2->torch->auraloss) (3.0.2)\n",
            "Requirement already satisfied: librosa in /usr/local/lib/python3.10/dist-packages (0.10.2.post1)\n",
            "Requirement already satisfied: audioread>=2.1.9 in /usr/local/lib/python3.10/dist-packages (from librosa) (3.0.1)\n",
            "Requirement already satisfied: numpy!=1.22.0,!=1.22.1,!=1.22.2,>=1.20.3 in /usr/local/lib/python3.10/dist-packages (from librosa) (1.26.4)\n",
            "Requirement already satisfied: scipy>=1.2.0 in /usr/local/lib/python3.10/dist-packages (from librosa) (1.13.1)\n",
            "Requirement already satisfied: scikit-learn>=0.20.0 in /usr/local/lib/python3.10/dist-packages (from librosa) (1.5.2)\n",
            "Requirement already satisfied: joblib>=0.14 in /usr/local/lib/python3.10/dist-packages (from librosa) (1.4.2)\n",
            "Requirement already satisfied: decorator>=4.3.0 in /usr/local/lib/python3.10/dist-packages (from librosa) (4.4.2)\n",
            "Requirement already satisfied: numba>=0.51.0 in /usr/local/lib/python3.10/dist-packages (from librosa) (0.60.0)\n",
            "Requirement already satisfied: soundfile>=0.12.1 in /usr/local/lib/python3.10/dist-packages (from librosa) (0.12.1)\n",
            "Requirement already satisfied: pooch>=1.1 in /usr/local/lib/python3.10/dist-packages (from librosa) (1.8.2)\n",
            "Requirement already satisfied: soxr>=0.3.2 in /usr/local/lib/python3.10/dist-packages (from librosa) (0.5.0.post1)\n",
            "Requirement already satisfied: typing-extensions>=4.1.1 in /usr/local/lib/python3.10/dist-packages (from librosa) (4.12.2)\n",
            "Requirement already satisfied: lazy-loader>=0.1 in /usr/local/lib/python3.10/dist-packages (from librosa) (0.4)\n",
            "Requirement already satisfied: msgpack>=1.0 in /usr/local/lib/python3.10/dist-packages (from librosa) (1.1.0)\n",
            "Requirement already satisfied: packaging in /usr/local/lib/python3.10/dist-packages (from lazy-loader>=0.1->librosa) (24.2)\n",
            "Requirement already satisfied: llvmlite<0.44,>=0.43.0dev0 in /usr/local/lib/python3.10/dist-packages (from numba>=0.51.0->librosa) (0.43.0)\n",
            "Requirement already satisfied: platformdirs>=2.5.0 in /usr/local/lib/python3.10/dist-packages (from pooch>=1.1->librosa) (4.3.6)\n",
            "Requirement already satisfied: requests>=2.19.0 in /usr/local/lib/python3.10/dist-packages (from pooch>=1.1->librosa) (2.32.3)\n",
            "Requirement already satisfied: threadpoolctl>=3.1.0 in /usr/local/lib/python3.10/dist-packages (from scikit-learn>=0.20.0->librosa) (3.5.0)\n",
            "Requirement already satisfied: cffi>=1.0 in /usr/local/lib/python3.10/dist-packages (from soundfile>=0.12.1->librosa) (1.17.1)\n",
            "Requirement already satisfied: pycparser in /usr/local/lib/python3.10/dist-packages (from cffi>=1.0->soundfile>=0.12.1->librosa) (2.22)\n",
            "Requirement already satisfied: charset-normalizer<4,>=2 in /usr/local/lib/python3.10/dist-packages (from requests>=2.19.0->pooch>=1.1->librosa) (3.4.0)\n",
            "Requirement already satisfied: idna<4,>=2.5 in /usr/local/lib/python3.10/dist-packages (from requests>=2.19.0->pooch>=1.1->librosa) (3.10)\n",
            "Requirement already satisfied: urllib3<3,>=1.21.1 in /usr/local/lib/python3.10/dist-packages (from requests>=2.19.0->pooch>=1.1->librosa) (2.2.3)\n",
            "Requirement already satisfied: certifi>=2017.4.17 in /usr/local/lib/python3.10/dist-packages (from requests>=2.19.0->pooch>=1.1->librosa) (2024.8.30)\n"
          ]
        }
      ],
      "source": [
        "# Instalando bibliotecas auxiliares\n",
        "!pip install tensorflow\n",
        "!pip install soundfile\n",
        "!pip install auraloss\n",
        "!pip install librosa"
      ]
    },
    {
      "cell_type": "code",
      "execution_count": null,
      "metadata": {
        "id": "DKSqM9CPTFaa"
      },
      "outputs": [],
      "source": [
        "# Importando bibliotecas auxiliares\n",
        "import time\n",
        "import numpy as np\n",
        "import soundfile as sf\n",
        "import tensorflow as tf\n",
        "from tensorflow.keras.backend import clear_session"
      ]
    },
    {
      "cell_type": "code",
      "execution_count": null,
      "metadata": {
        "id": "Vnt24pu7XfBx"
      },
      "outputs": [],
      "source": [
        "# Importando arquivos auxiliares\n",
        "import utils\n",
        "import configs\n",
        "from model import VAE_GAN\n",
        "from audio_info import AudioInfo"
      ]
    },
    {
      "cell_type": "code",
      "execution_count": null,
      "metadata": {
        "colab": {
          "base_uri": "https://localhost:8080/"
        },
        "id": "guR0U7aKRooy",
        "outputId": "fb1296bf-7b88-4140-d90f-98d35b52547b"
      },
      "outputs": [
        {
          "output_type": "execute_result",
          "data": {
            "text/plain": [
              "<module 'configs' from '/content/drive/MyDrive/VAE_TCC/configs.py'>"
            ]
          },
          "metadata": {},
          "execution_count": 6
        }
      ],
      "source": [
        "# Re-carregando arquivos para garantia de alterações\n",
        "import importlib\n",
        "importlib.reload(utils)\n",
        "importlib.reload(configs)"
      ]
    },
    {
      "cell_type": "code",
      "execution_count": null,
      "metadata": {
        "colab": {
          "base_uri": "https://localhost:8080/"
        },
        "id": "moYeIWWfXpbe",
        "outputId": "c1999031-8f19-417c-f9a1-979a30d3c0d3"
      },
      "outputs": [
        {
          "output_type": "stream",
          "name": "stdout",
          "text": [
            "[ID do Experimento] - GX9266\n"
          ]
        }
      ],
      "source": [
        "start_time = time.time()\n",
        "current_id = utils.generate_random_id()\n",
        "print(f\"[ID do Experimento] - {current_id}\")"
      ]
    },
    {
      "cell_type": "code",
      "execution_count": null,
      "metadata": {
        "id": "TsTPjfxpXwJF"
      },
      "outputs": [],
      "source": [
        "# Carregando os dados de áudio e instanciando otimizador\n",
        "audio_info = AudioInfo(audio_path=configs.AUDIO_PATH, duration=configs.AUDIO_DURATION, sr=configs.AUDIO_RATE)"
      ]
    },
    {
      "cell_type": "code",
      "execution_count": null,
      "metadata": {
        "colab": {
          "base_uri": "https://localhost:8080/"
        },
        "id": "rB8kyVV6YOrg",
        "outputId": "71460b6e-ea17-446c-c0ba-e14cdf245bcc"
      },
      "outputs": [
        {
          "output_type": "stream",
          "name": "stdout",
          "text": [
            "[Extraindo formas de onda]\n",
            " - ethereal: OK\n",
            " - hype: OK\n",
            " - how_sweet: OK\n",
            " - fancy: OK\n",
            " - supernatural: OK\n",
            " - goth: OK\n",
            "\n",
            "[Dados de Treinamento] - Formato: (6, 41250, 16)\n"
          ]
        }
      ],
      "source": [
        "# Extraindo e preparando dados de Treinamento\n",
        "data = audio_info.get_audio_data(num_audio_samples=configs.NUM_AUDIO_SAMPLES)\n",
        "multiband_dataset = []\n",
        "for i in range(data.shape[0]):\n",
        "    subbands = audio_info.multiband_decomposition(data[i], num_bands=configs.NUM_BANDS)\n",
        "    multiband_dataset.append(subbands)\n",
        "\n",
        "data = np.array(multiband_dataset)\n",
        "print(f\"[Dados de Treinamento] - Formato: {data.shape}\")"
      ]
    },
    {
      "cell_type": "code",
      "execution_count": null,
      "metadata": {
        "id": "-YXfCGNrRuWJ",
        "colab": {
          "base_uri": "https://localhost:8080/"
        },
        "outputId": "3179abcb-9e4c-41db-9a17-3069282b9561"
      },
      "outputs": [
        {
          "output_type": "stream",
          "name": "stdout",
          "text": [
            "[Incializando VAE-GAN]\n",
            "\t[CONSTRUINDO ENCODER]\n",
            "\t\t - Forma de saída MU:  (None, 323, 16)\n",
            "\t\t - Forma de saída LOG_VAR:  (None, 323, 16)\n",
            "\n",
            "\t[CONSTRUINDO DECODER]\n",
            "\t[INFO]Formato de entrada:  (6, 41250, 16)\n",
            "\t[INFO]Comprimento do Encoder:  323\n",
            "\t[INFO]Fator de Decodificação:  128\n",
            "\t[INFO]Unidades do Decoder:  165376\n",
            "\t[INFO] Cropping necessário (41344 != 41250)\n",
            "\t\t - Forma de saída DECODER:  (None, 41250, 16)\n",
            "[VAE-GAN Inicializado]\n"
          ]
        }
      ],
      "source": [
        "# Inicializando o modelo\n",
        "optimizer = tf.keras.optimizers.Adam(learning_rate=configs.LEARNING_RATE, beta_1=configs.BETA_1,\n",
        "                                     beta_2=configs.BETA_2, epsilon=configs.EPSILON)\n",
        "model = VAE_GAN(input_shape=data.shape, latent_dim=configs.LATENT_DIM, hidden_dims=configs.VAE_HIDDEN_DIMS, id=current_id,\n",
        "            duration=configs.AUDIO_DURATION, rate=configs.AUDIO_RATE, kernel_sizes=configs.VAE_KERNELS, strides=configs.VAE_STRIDES,\n",
        "             loud_stride=configs.LOUD_STRIDE, kl_beta=configs.KL_BETA, batch_size=configs.BATCH_SIZE, num_bands=configs.NUM_BANDS,\n",
        "            residual_depth=configs.RESIDUAL_DEPTH, use_noise=configs.USE_NOISE)\n"
      ]
    },
    {
      "cell_type": "code",
      "execution_count": null,
      "metadata": {
        "id": "qPhQRwbNYp23",
        "colab": {
          "base_uri": "https://localhost:8080/",
          "height": 217
        },
        "outputId": "7716c519-e794-4afc-f8f0-3c02f08ccdaa"
      },
      "outputs": [
        {
          "output_type": "display_data",
          "data": {
            "text/plain": [
              "\u001b[1mModel: \"vae_gan\"\u001b[0m\n"
            ],
            "text/html": [
              "<pre style=\"white-space:pre;overflow-x:auto;line-height:normal;font-family:Menlo,'DejaVu Sans Mono',consolas,'Courier New',monospace\"><span style=\"font-weight: bold\">Model: \"vae_gan\"</span>\n",
              "</pre>\n"
            ]
          },
          "metadata": {}
        },
        {
          "output_type": "display_data",
          "data": {
            "text/plain": [
              "┏━━━━━━━━━━━━━━━━━━━━━━━━━━━━━━━━━━━━━━┳━━━━━━━━━━━━━━━━━━━━━━━━━━━━━┳━━━━━━━━━━━━━━━━━┓\n",
              "┃\u001b[1m \u001b[0m\u001b[1mLayer (type)                        \u001b[0m\u001b[1m \u001b[0m┃\u001b[1m \u001b[0m\u001b[1mOutput Shape               \u001b[0m\u001b[1m \u001b[0m┃\u001b[1m \u001b[0m\u001b[1m        Param #\u001b[0m\u001b[1m \u001b[0m┃\n",
              "┡━━━━━━━━━━━━━━━━━━━━━━━━━━━━━━━━━━━━━━╇━━━━━━━━━━━━━━━━━━━━━━━━━━━━━╇━━━━━━━━━━━━━━━━━┩\n",
              "│ Encoder (\u001b[38;5;33mFunctional\u001b[0m)                 │ [(None, 323, 16), (None,    │         \u001b[38;5;34m912,160\u001b[0m │\n",
              "│                                      │ 323, 16)]                   │                 │\n",
              "├──────────────────────────────────────┼─────────────────────────────┼─────────────────┤\n",
              "│ Decoder (\u001b[38;5;33mFunctional\u001b[0m)                 │ (None, 41250, 16)           │       \u001b[38;5;34m8,319,840\u001b[0m │\n",
              "└──────────────────────────────────────┴─────────────────────────────┴─────────────────┘\n"
            ],
            "text/html": [
              "<pre style=\"white-space:pre;overflow-x:auto;line-height:normal;font-family:Menlo,'DejaVu Sans Mono',consolas,'Courier New',monospace\">┏━━━━━━━━━━━━━━━━━━━━━━━━━━━━━━━━━━━━━━┳━━━━━━━━━━━━━━━━━━━━━━━━━━━━━┳━━━━━━━━━━━━━━━━━┓\n",
              "┃<span style=\"font-weight: bold\"> Layer (type)                         </span>┃<span style=\"font-weight: bold\"> Output Shape                </span>┃<span style=\"font-weight: bold\">         Param # </span>┃\n",
              "┡━━━━━━━━━━━━━━━━━━━━━━━━━━━━━━━━━━━━━━╇━━━━━━━━━━━━━━━━━━━━━━━━━━━━━╇━━━━━━━━━━━━━━━━━┩\n",
              "│ Encoder (<span style=\"color: #0087ff; text-decoration-color: #0087ff\">Functional</span>)                 │ [(None, 323, 16), (None,    │         <span style=\"color: #00af00; text-decoration-color: #00af00\">912,160</span> │\n",
              "│                                      │ 323, 16)]                   │                 │\n",
              "├──────────────────────────────────────┼─────────────────────────────┼─────────────────┤\n",
              "│ Decoder (<span style=\"color: #0087ff; text-decoration-color: #0087ff\">Functional</span>)                 │ (None, 41250, 16)           │       <span style=\"color: #00af00; text-decoration-color: #00af00\">8,319,840</span> │\n",
              "└──────────────────────────────────────┴─────────────────────────────┴─────────────────┘\n",
              "</pre>\n"
            ]
          },
          "metadata": {}
        },
        {
          "output_type": "display_data",
          "data": {
            "text/plain": [
              "\u001b[1m Total params: \u001b[0m\u001b[38;5;34m9,232,000\u001b[0m (35.22 MB)\n"
            ],
            "text/html": [
              "<pre style=\"white-space:pre;overflow-x:auto;line-height:normal;font-family:Menlo,'DejaVu Sans Mono',consolas,'Courier New',monospace\"><span style=\"font-weight: bold\"> Total params: </span><span style=\"color: #00af00; text-decoration-color: #00af00\">9,232,000</span> (35.22 MB)\n",
              "</pre>\n"
            ]
          },
          "metadata": {}
        },
        {
          "output_type": "display_data",
          "data": {
            "text/plain": [
              "\u001b[1m Trainable params: \u001b[0m\u001b[38;5;34m9,231,072\u001b[0m (35.21 MB)\n"
            ],
            "text/html": [
              "<pre style=\"white-space:pre;overflow-x:auto;line-height:normal;font-family:Menlo,'DejaVu Sans Mono',consolas,'Courier New',monospace\"><span style=\"font-weight: bold\"> Trainable params: </span><span style=\"color: #00af00; text-decoration-color: #00af00\">9,231,072</span> (35.21 MB)\n",
              "</pre>\n"
            ]
          },
          "metadata": {}
        },
        {
          "output_type": "display_data",
          "data": {
            "text/plain": [
              "\u001b[1m Non-trainable params: \u001b[0m\u001b[38;5;34m928\u001b[0m (3.62 KB)\n"
            ],
            "text/html": [
              "<pre style=\"white-space:pre;overflow-x:auto;line-height:normal;font-family:Menlo,'DejaVu Sans Mono',consolas,'Courier New',monospace\"><span style=\"font-weight: bold\"> Non-trainable params: </span><span style=\"color: #00af00; text-decoration-color: #00af00\">928</span> (3.62 KB)\n",
              "</pre>\n"
            ]
          },
          "metadata": {}
        }
      ],
      "source": [
        "# Visualizando modelo\n",
        "model.summary()"
      ]
    },
    {
      "cell_type": "code",
      "source": [
        "model.encoder.summary()"
      ],
      "metadata": {
        "colab": {
          "base_uri": "https://localhost:8080/",
          "height": 734
        },
        "id": "DkEfRLD6OVd3",
        "outputId": "c958a0ef-8d9c-4055-83dc-fc6bdede3575"
      },
      "execution_count": null,
      "outputs": [
        {
          "output_type": "display_data",
          "data": {
            "text/plain": [
              "\u001b[1mModel: \"Encoder\"\u001b[0m\n"
            ],
            "text/html": [
              "<pre style=\"white-space:pre;overflow-x:auto;line-height:normal;font-family:Menlo,'DejaVu Sans Mono',consolas,'Courier New',monospace\"><span style=\"font-weight: bold\">Model: \"Encoder\"</span>\n",
              "</pre>\n"
            ]
          },
          "metadata": {}
        },
        {
          "output_type": "display_data",
          "data": {
            "text/plain": [
              "┏━━━━━━━━━━━━━━━━━━━━━━━━━━━┳━━━━━━━━━━━━━━━━━━━━━━━━┳━━━━━━━━━━━━━━━━┳━━━━━━━━━━━━━━━━━━━━━━━━┓\n",
              "┃\u001b[1m \u001b[0m\u001b[1mLayer (type)             \u001b[0m\u001b[1m \u001b[0m┃\u001b[1m \u001b[0m\u001b[1mOutput Shape          \u001b[0m\u001b[1m \u001b[0m┃\u001b[1m \u001b[0m\u001b[1m       Param #\u001b[0m\u001b[1m \u001b[0m┃\u001b[1m \u001b[0m\u001b[1mConnected to          \u001b[0m\u001b[1m \u001b[0m┃\n",
              "┡━━━━━━━━━━━━━━━━━━━━━━━━━━━╇━━━━━━━━━━━━━━━━━━━━━━━━╇━━━━━━━━━━━━━━━━╇━━━━━━━━━━━━━━━━━━━━━━━━┩\n",
              "│ input_layer (\u001b[38;5;33mInputLayer\u001b[0m)  │ (\u001b[38;5;45mNone\u001b[0m, \u001b[38;5;34m41250\u001b[0m, \u001b[38;5;34m16\u001b[0m)      │              \u001b[38;5;34m0\u001b[0m │ -                      │\n",
              "├───────────────────────────┼────────────────────────┼────────────────┼────────────────────────┤\n",
              "│ batch_normalization       │ (\u001b[38;5;45mNone\u001b[0m, \u001b[38;5;34m41250\u001b[0m, \u001b[38;5;34m16\u001b[0m)      │             \u001b[38;5;34m64\u001b[0m │ input_layer[\u001b[38;5;34m0\u001b[0m][\u001b[38;5;34m0\u001b[0m]      │\n",
              "│ (\u001b[38;5;33mBatchNormalization\u001b[0m)      │                        │                │                        │\n",
              "├───────────────────────────┼────────────────────────┼────────────────┼────────────────────────┤\n",
              "│ leaky_re_lu (\u001b[38;5;33mLeakyReLU\u001b[0m)   │ (\u001b[38;5;45mNone\u001b[0m, \u001b[38;5;34m41250\u001b[0m, \u001b[38;5;34m16\u001b[0m)      │              \u001b[38;5;34m0\u001b[0m │ batch_normalization[\u001b[38;5;34m0\u001b[0m… │\n",
              "├───────────────────────────┼────────────────────────┼────────────────┼────────────────────────┤\n",
              "│ conv1d (\u001b[38;5;33mConv1D\u001b[0m)           │ (\u001b[38;5;45mNone\u001b[0m, \u001b[38;5;34m10313\u001b[0m, \u001b[38;5;34m64\u001b[0m)      │          \u001b[38;5;34m8,256\u001b[0m │ leaky_re_lu[\u001b[38;5;34m0\u001b[0m][\u001b[38;5;34m0\u001b[0m]      │\n",
              "├───────────────────────────┼────────────────────────┼────────────────┼────────────────────────┤\n",
              "│ batch_normalization_1     │ (\u001b[38;5;45mNone\u001b[0m, \u001b[38;5;34m10313\u001b[0m, \u001b[38;5;34m64\u001b[0m)      │            \u001b[38;5;34m256\u001b[0m │ conv1d[\u001b[38;5;34m0\u001b[0m][\u001b[38;5;34m0\u001b[0m]           │\n",
              "│ (\u001b[38;5;33mBatchNormalization\u001b[0m)      │                        │                │                        │\n",
              "├───────────────────────────┼────────────────────────┼────────────────┼────────────────────────┤\n",
              "│ leaky_re_lu_1 (\u001b[38;5;33mLeakyReLU\u001b[0m) │ (\u001b[38;5;45mNone\u001b[0m, \u001b[38;5;34m10313\u001b[0m, \u001b[38;5;34m64\u001b[0m)      │              \u001b[38;5;34m0\u001b[0m │ batch_normalization_1… │\n",
              "├───────────────────────────┼────────────────────────┼────────────────┼────────────────────────┤\n",
              "│ conv1d_1 (\u001b[38;5;33mConv1D\u001b[0m)         │ (\u001b[38;5;45mNone\u001b[0m, \u001b[38;5;34m2579\u001b[0m, \u001b[38;5;34m128\u001b[0m)      │         \u001b[38;5;34m65,664\u001b[0m │ leaky_re_lu_1[\u001b[38;5;34m0\u001b[0m][\u001b[38;5;34m0\u001b[0m]    │\n",
              "├───────────────────────────┼────────────────────────┼────────────────┼────────────────────────┤\n",
              "│ batch_normalization_2     │ (\u001b[38;5;45mNone\u001b[0m, \u001b[38;5;34m2579\u001b[0m, \u001b[38;5;34m128\u001b[0m)      │            \u001b[38;5;34m512\u001b[0m │ conv1d_1[\u001b[38;5;34m0\u001b[0m][\u001b[38;5;34m0\u001b[0m]         │\n",
              "│ (\u001b[38;5;33mBatchNormalization\u001b[0m)      │                        │                │                        │\n",
              "├───────────────────────────┼────────────────────────┼────────────────┼────────────────────────┤\n",
              "│ leaky_re_lu_2 (\u001b[38;5;33mLeakyReLU\u001b[0m) │ (\u001b[38;5;45mNone\u001b[0m, \u001b[38;5;34m2579\u001b[0m, \u001b[38;5;34m128\u001b[0m)      │              \u001b[38;5;34m0\u001b[0m │ batch_normalization_2… │\n",
              "├───────────────────────────┼────────────────────────┼────────────────┼────────────────────────┤\n",
              "│ conv1d_2 (\u001b[38;5;33mConv1D\u001b[0m)         │ (\u001b[38;5;45mNone\u001b[0m, \u001b[38;5;34m645\u001b[0m, \u001b[38;5;34m256\u001b[0m)       │        \u001b[38;5;34m262,400\u001b[0m │ leaky_re_lu_2[\u001b[38;5;34m0\u001b[0m][\u001b[38;5;34m0\u001b[0m]    │\n",
              "├───────────────────────────┼────────────────────────┼────────────────┼────────────────────────┤\n",
              "│ batch_normalization_3     │ (\u001b[38;5;45mNone\u001b[0m, \u001b[38;5;34m645\u001b[0m, \u001b[38;5;34m256\u001b[0m)       │          \u001b[38;5;34m1,024\u001b[0m │ conv1d_2[\u001b[38;5;34m0\u001b[0m][\u001b[38;5;34m0\u001b[0m]         │\n",
              "│ (\u001b[38;5;33mBatchNormalization\u001b[0m)      │                        │                │                        │\n",
              "├───────────────────────────┼────────────────────────┼────────────────┼────────────────────────┤\n",
              "│ leaky_re_lu_3 (\u001b[38;5;33mLeakyReLU\u001b[0m) │ (\u001b[38;5;45mNone\u001b[0m, \u001b[38;5;34m645\u001b[0m, \u001b[38;5;34m256\u001b[0m)       │              \u001b[38;5;34m0\u001b[0m │ batch_normalization_3… │\n",
              "├───────────────────────────┼────────────────────────┼────────────────┼────────────────────────┤\n",
              "│ conv1d_3 (\u001b[38;5;33mConv1D\u001b[0m)         │ (\u001b[38;5;45mNone\u001b[0m, \u001b[38;5;34m323\u001b[0m, \u001b[38;5;34m512\u001b[0m)       │        \u001b[38;5;34m524,800\u001b[0m │ leaky_re_lu_3[\u001b[38;5;34m0\u001b[0m][\u001b[38;5;34m0\u001b[0m]    │\n",
              "├───────────────────────────┼────────────────────────┼────────────────┼────────────────────────┤\n",
              "│ leaky_re_lu_4 (\u001b[38;5;33mLeakyReLU\u001b[0m) │ (\u001b[38;5;45mNone\u001b[0m, \u001b[38;5;34m323\u001b[0m, \u001b[38;5;34m512\u001b[0m)       │              \u001b[38;5;34m0\u001b[0m │ conv1d_3[\u001b[38;5;34m0\u001b[0m][\u001b[38;5;34m0\u001b[0m]         │\n",
              "├───────────────────────────┼────────────────────────┼────────────────┼────────────────────────┤\n",
              "│ conv1d_4 (\u001b[38;5;33mConv1D\u001b[0m)         │ (\u001b[38;5;45mNone\u001b[0m, \u001b[38;5;34m323\u001b[0m, \u001b[38;5;34m16\u001b[0m)        │         \u001b[38;5;34m40,976\u001b[0m │ leaky_re_lu_4[\u001b[38;5;34m0\u001b[0m][\u001b[38;5;34m0\u001b[0m]    │\n",
              "├───────────────────────────┼────────────────────────┼────────────────┼────────────────────────┤\n",
              "│ conv1d_5 (\u001b[38;5;33mConv1D\u001b[0m)         │ (\u001b[38;5;45mNone\u001b[0m, \u001b[38;5;34m323\u001b[0m, \u001b[38;5;34m16\u001b[0m)        │          \u001b[38;5;34m8,208\u001b[0m │ leaky_re_lu_4[\u001b[38;5;34m0\u001b[0m][\u001b[38;5;34m0\u001b[0m]    │\n",
              "└───────────────────────────┴────────────────────────┴────────────────┴────────────────────────┘\n"
            ],
            "text/html": [
              "<pre style=\"white-space:pre;overflow-x:auto;line-height:normal;font-family:Menlo,'DejaVu Sans Mono',consolas,'Courier New',monospace\">┏━━━━━━━━━━━━━━━━━━━━━━━━━━━┳━━━━━━━━━━━━━━━━━━━━━━━━┳━━━━━━━━━━━━━━━━┳━━━━━━━━━━━━━━━━━━━━━━━━┓\n",
              "┃<span style=\"font-weight: bold\"> Layer (type)              </span>┃<span style=\"font-weight: bold\"> Output Shape           </span>┃<span style=\"font-weight: bold\">        Param # </span>┃<span style=\"font-weight: bold\"> Connected to           </span>┃\n",
              "┡━━━━━━━━━━━━━━━━━━━━━━━━━━━╇━━━━━━━━━━━━━━━━━━━━━━━━╇━━━━━━━━━━━━━━━━╇━━━━━━━━━━━━━━━━━━━━━━━━┩\n",
              "│ input_layer (<span style=\"color: #0087ff; text-decoration-color: #0087ff\">InputLayer</span>)  │ (<span style=\"color: #00d7ff; text-decoration-color: #00d7ff\">None</span>, <span style=\"color: #00af00; text-decoration-color: #00af00\">41250</span>, <span style=\"color: #00af00; text-decoration-color: #00af00\">16</span>)      │              <span style=\"color: #00af00; text-decoration-color: #00af00\">0</span> │ -                      │\n",
              "├───────────────────────────┼────────────────────────┼────────────────┼────────────────────────┤\n",
              "│ batch_normalization       │ (<span style=\"color: #00d7ff; text-decoration-color: #00d7ff\">None</span>, <span style=\"color: #00af00; text-decoration-color: #00af00\">41250</span>, <span style=\"color: #00af00; text-decoration-color: #00af00\">16</span>)      │             <span style=\"color: #00af00; text-decoration-color: #00af00\">64</span> │ input_layer[<span style=\"color: #00af00; text-decoration-color: #00af00\">0</span>][<span style=\"color: #00af00; text-decoration-color: #00af00\">0</span>]      │\n",
              "│ (<span style=\"color: #0087ff; text-decoration-color: #0087ff\">BatchNormalization</span>)      │                        │                │                        │\n",
              "├───────────────────────────┼────────────────────────┼────────────────┼────────────────────────┤\n",
              "│ leaky_re_lu (<span style=\"color: #0087ff; text-decoration-color: #0087ff\">LeakyReLU</span>)   │ (<span style=\"color: #00d7ff; text-decoration-color: #00d7ff\">None</span>, <span style=\"color: #00af00; text-decoration-color: #00af00\">41250</span>, <span style=\"color: #00af00; text-decoration-color: #00af00\">16</span>)      │              <span style=\"color: #00af00; text-decoration-color: #00af00\">0</span> │ batch_normalization[<span style=\"color: #00af00; text-decoration-color: #00af00\">0</span>… │\n",
              "├───────────────────────────┼────────────────────────┼────────────────┼────────────────────────┤\n",
              "│ conv1d (<span style=\"color: #0087ff; text-decoration-color: #0087ff\">Conv1D</span>)           │ (<span style=\"color: #00d7ff; text-decoration-color: #00d7ff\">None</span>, <span style=\"color: #00af00; text-decoration-color: #00af00\">10313</span>, <span style=\"color: #00af00; text-decoration-color: #00af00\">64</span>)      │          <span style=\"color: #00af00; text-decoration-color: #00af00\">8,256</span> │ leaky_re_lu[<span style=\"color: #00af00; text-decoration-color: #00af00\">0</span>][<span style=\"color: #00af00; text-decoration-color: #00af00\">0</span>]      │\n",
              "├───────────────────────────┼────────────────────────┼────────────────┼────────────────────────┤\n",
              "│ batch_normalization_1     │ (<span style=\"color: #00d7ff; text-decoration-color: #00d7ff\">None</span>, <span style=\"color: #00af00; text-decoration-color: #00af00\">10313</span>, <span style=\"color: #00af00; text-decoration-color: #00af00\">64</span>)      │            <span style=\"color: #00af00; text-decoration-color: #00af00\">256</span> │ conv1d[<span style=\"color: #00af00; text-decoration-color: #00af00\">0</span>][<span style=\"color: #00af00; text-decoration-color: #00af00\">0</span>]           │\n",
              "│ (<span style=\"color: #0087ff; text-decoration-color: #0087ff\">BatchNormalization</span>)      │                        │                │                        │\n",
              "├───────────────────────────┼────────────────────────┼────────────────┼────────────────────────┤\n",
              "│ leaky_re_lu_1 (<span style=\"color: #0087ff; text-decoration-color: #0087ff\">LeakyReLU</span>) │ (<span style=\"color: #00d7ff; text-decoration-color: #00d7ff\">None</span>, <span style=\"color: #00af00; text-decoration-color: #00af00\">10313</span>, <span style=\"color: #00af00; text-decoration-color: #00af00\">64</span>)      │              <span style=\"color: #00af00; text-decoration-color: #00af00\">0</span> │ batch_normalization_1… │\n",
              "├───────────────────────────┼────────────────────────┼────────────────┼────────────────────────┤\n",
              "│ conv1d_1 (<span style=\"color: #0087ff; text-decoration-color: #0087ff\">Conv1D</span>)         │ (<span style=\"color: #00d7ff; text-decoration-color: #00d7ff\">None</span>, <span style=\"color: #00af00; text-decoration-color: #00af00\">2579</span>, <span style=\"color: #00af00; text-decoration-color: #00af00\">128</span>)      │         <span style=\"color: #00af00; text-decoration-color: #00af00\">65,664</span> │ leaky_re_lu_1[<span style=\"color: #00af00; text-decoration-color: #00af00\">0</span>][<span style=\"color: #00af00; text-decoration-color: #00af00\">0</span>]    │\n",
              "├───────────────────────────┼────────────────────────┼────────────────┼────────────────────────┤\n",
              "│ batch_normalization_2     │ (<span style=\"color: #00d7ff; text-decoration-color: #00d7ff\">None</span>, <span style=\"color: #00af00; text-decoration-color: #00af00\">2579</span>, <span style=\"color: #00af00; text-decoration-color: #00af00\">128</span>)      │            <span style=\"color: #00af00; text-decoration-color: #00af00\">512</span> │ conv1d_1[<span style=\"color: #00af00; text-decoration-color: #00af00\">0</span>][<span style=\"color: #00af00; text-decoration-color: #00af00\">0</span>]         │\n",
              "│ (<span style=\"color: #0087ff; text-decoration-color: #0087ff\">BatchNormalization</span>)      │                        │                │                        │\n",
              "├───────────────────────────┼────────────────────────┼────────────────┼────────────────────────┤\n",
              "│ leaky_re_lu_2 (<span style=\"color: #0087ff; text-decoration-color: #0087ff\">LeakyReLU</span>) │ (<span style=\"color: #00d7ff; text-decoration-color: #00d7ff\">None</span>, <span style=\"color: #00af00; text-decoration-color: #00af00\">2579</span>, <span style=\"color: #00af00; text-decoration-color: #00af00\">128</span>)      │              <span style=\"color: #00af00; text-decoration-color: #00af00\">0</span> │ batch_normalization_2… │\n",
              "├───────────────────────────┼────────────────────────┼────────────────┼────────────────────────┤\n",
              "│ conv1d_2 (<span style=\"color: #0087ff; text-decoration-color: #0087ff\">Conv1D</span>)         │ (<span style=\"color: #00d7ff; text-decoration-color: #00d7ff\">None</span>, <span style=\"color: #00af00; text-decoration-color: #00af00\">645</span>, <span style=\"color: #00af00; text-decoration-color: #00af00\">256</span>)       │        <span style=\"color: #00af00; text-decoration-color: #00af00\">262,400</span> │ leaky_re_lu_2[<span style=\"color: #00af00; text-decoration-color: #00af00\">0</span>][<span style=\"color: #00af00; text-decoration-color: #00af00\">0</span>]    │\n",
              "├───────────────────────────┼────────────────────────┼────────────────┼────────────────────────┤\n",
              "│ batch_normalization_3     │ (<span style=\"color: #00d7ff; text-decoration-color: #00d7ff\">None</span>, <span style=\"color: #00af00; text-decoration-color: #00af00\">645</span>, <span style=\"color: #00af00; text-decoration-color: #00af00\">256</span>)       │          <span style=\"color: #00af00; text-decoration-color: #00af00\">1,024</span> │ conv1d_2[<span style=\"color: #00af00; text-decoration-color: #00af00\">0</span>][<span style=\"color: #00af00; text-decoration-color: #00af00\">0</span>]         │\n",
              "│ (<span style=\"color: #0087ff; text-decoration-color: #0087ff\">BatchNormalization</span>)      │                        │                │                        │\n",
              "├───────────────────────────┼────────────────────────┼────────────────┼────────────────────────┤\n",
              "│ leaky_re_lu_3 (<span style=\"color: #0087ff; text-decoration-color: #0087ff\">LeakyReLU</span>) │ (<span style=\"color: #00d7ff; text-decoration-color: #00d7ff\">None</span>, <span style=\"color: #00af00; text-decoration-color: #00af00\">645</span>, <span style=\"color: #00af00; text-decoration-color: #00af00\">256</span>)       │              <span style=\"color: #00af00; text-decoration-color: #00af00\">0</span> │ batch_normalization_3… │\n",
              "├───────────────────────────┼────────────────────────┼────────────────┼────────────────────────┤\n",
              "│ conv1d_3 (<span style=\"color: #0087ff; text-decoration-color: #0087ff\">Conv1D</span>)         │ (<span style=\"color: #00d7ff; text-decoration-color: #00d7ff\">None</span>, <span style=\"color: #00af00; text-decoration-color: #00af00\">323</span>, <span style=\"color: #00af00; text-decoration-color: #00af00\">512</span>)       │        <span style=\"color: #00af00; text-decoration-color: #00af00\">524,800</span> │ leaky_re_lu_3[<span style=\"color: #00af00; text-decoration-color: #00af00\">0</span>][<span style=\"color: #00af00; text-decoration-color: #00af00\">0</span>]    │\n",
              "├───────────────────────────┼────────────────────────┼────────────────┼────────────────────────┤\n",
              "│ leaky_re_lu_4 (<span style=\"color: #0087ff; text-decoration-color: #0087ff\">LeakyReLU</span>) │ (<span style=\"color: #00d7ff; text-decoration-color: #00d7ff\">None</span>, <span style=\"color: #00af00; text-decoration-color: #00af00\">323</span>, <span style=\"color: #00af00; text-decoration-color: #00af00\">512</span>)       │              <span style=\"color: #00af00; text-decoration-color: #00af00\">0</span> │ conv1d_3[<span style=\"color: #00af00; text-decoration-color: #00af00\">0</span>][<span style=\"color: #00af00; text-decoration-color: #00af00\">0</span>]         │\n",
              "├───────────────────────────┼────────────────────────┼────────────────┼────────────────────────┤\n",
              "│ conv1d_4 (<span style=\"color: #0087ff; text-decoration-color: #0087ff\">Conv1D</span>)         │ (<span style=\"color: #00d7ff; text-decoration-color: #00d7ff\">None</span>, <span style=\"color: #00af00; text-decoration-color: #00af00\">323</span>, <span style=\"color: #00af00; text-decoration-color: #00af00\">16</span>)        │         <span style=\"color: #00af00; text-decoration-color: #00af00\">40,976</span> │ leaky_re_lu_4[<span style=\"color: #00af00; text-decoration-color: #00af00\">0</span>][<span style=\"color: #00af00; text-decoration-color: #00af00\">0</span>]    │\n",
              "├───────────────────────────┼────────────────────────┼────────────────┼────────────────────────┤\n",
              "│ conv1d_5 (<span style=\"color: #0087ff; text-decoration-color: #0087ff\">Conv1D</span>)         │ (<span style=\"color: #00d7ff; text-decoration-color: #00d7ff\">None</span>, <span style=\"color: #00af00; text-decoration-color: #00af00\">323</span>, <span style=\"color: #00af00; text-decoration-color: #00af00\">16</span>)        │          <span style=\"color: #00af00; text-decoration-color: #00af00\">8,208</span> │ leaky_re_lu_4[<span style=\"color: #00af00; text-decoration-color: #00af00\">0</span>][<span style=\"color: #00af00; text-decoration-color: #00af00\">0</span>]    │\n",
              "└───────────────────────────┴────────────────────────┴────────────────┴────────────────────────┘\n",
              "</pre>\n"
            ]
          },
          "metadata": {}
        },
        {
          "output_type": "display_data",
          "data": {
            "text/plain": [
              "\u001b[1m Total params: \u001b[0m\u001b[38;5;34m912,160\u001b[0m (3.48 MB)\n"
            ],
            "text/html": [
              "<pre style=\"white-space:pre;overflow-x:auto;line-height:normal;font-family:Menlo,'DejaVu Sans Mono',consolas,'Courier New',monospace\"><span style=\"font-weight: bold\"> Total params: </span><span style=\"color: #00af00; text-decoration-color: #00af00\">912,160</span> (3.48 MB)\n",
              "</pre>\n"
            ]
          },
          "metadata": {}
        },
        {
          "output_type": "display_data",
          "data": {
            "text/plain": [
              "\u001b[1m Trainable params: \u001b[0m\u001b[38;5;34m911,232\u001b[0m (3.48 MB)\n"
            ],
            "text/html": [
              "<pre style=\"white-space:pre;overflow-x:auto;line-height:normal;font-family:Menlo,'DejaVu Sans Mono',consolas,'Courier New',monospace\"><span style=\"font-weight: bold\"> Trainable params: </span><span style=\"color: #00af00; text-decoration-color: #00af00\">911,232</span> (3.48 MB)\n",
              "</pre>\n"
            ]
          },
          "metadata": {}
        },
        {
          "output_type": "display_data",
          "data": {
            "text/plain": [
              "\u001b[1m Non-trainable params: \u001b[0m\u001b[38;5;34m928\u001b[0m (3.62 KB)\n"
            ],
            "text/html": [
              "<pre style=\"white-space:pre;overflow-x:auto;line-height:normal;font-family:Menlo,'DejaVu Sans Mono',consolas,'Courier New',monospace\"><span style=\"font-weight: bold\"> Non-trainable params: </span><span style=\"color: #00af00; text-decoration-color: #00af00\">928</span> (3.62 KB)\n",
              "</pre>\n"
            ]
          },
          "metadata": {}
        }
      ]
    },
    {
      "cell_type": "code",
      "source": [
        "model.decoder.summary()"
      ],
      "metadata": {
        "colab": {
          "base_uri": "https://localhost:8080/",
          "height": 734
        },
        "id": "2V5aX7u0nGSZ",
        "outputId": "e5968eb9-5fbb-4169-a2b2-3372f0b1b92c"
      },
      "execution_count": null,
      "outputs": [
        {
          "output_type": "display_data",
          "data": {
            "text/plain": [
              "\u001b[1mModel: \"Decoder\"\u001b[0m\n"
            ],
            "text/html": [
              "<pre style=\"white-space:pre;overflow-x:auto;line-height:normal;font-family:Menlo,'DejaVu Sans Mono',consolas,'Courier New',monospace\"><span style=\"font-weight: bold\">Model: \"Decoder\"</span>\n",
              "</pre>\n"
            ]
          },
          "metadata": {}
        },
        {
          "output_type": "display_data",
          "data": {
            "text/plain": [
              "┏━━━━━━━━━━━━━━━━━━━━━━━━━━━┳━━━━━━━━━━━━━━━━━━━━━━━━┳━━━━━━━━━━━━━━━━┳━━━━━━━━━━━━━━━━━━━━━━━━┓\n",
              "┃\u001b[1m \u001b[0m\u001b[1mLayer (type)             \u001b[0m\u001b[1m \u001b[0m┃\u001b[1m \u001b[0m\u001b[1mOutput Shape          \u001b[0m\u001b[1m \u001b[0m┃\u001b[1m \u001b[0m\u001b[1m       Param #\u001b[0m\u001b[1m \u001b[0m┃\u001b[1m \u001b[0m\u001b[1mConnected to          \u001b[0m\u001b[1m \u001b[0m┃\n",
              "┡━━━━━━━━━━━━━━━━━━━━━━━━━━━╇━━━━━━━━━━━━━━━━━━━━━━━━╇━━━━━━━━━━━━━━━━╇━━━━━━━━━━━━━━━━━━━━━━━━┩\n",
              "│ input_layer_1             │ (\u001b[38;5;45mNone\u001b[0m, \u001b[38;5;34m323\u001b[0m, \u001b[38;5;34m16\u001b[0m)        │              \u001b[38;5;34m0\u001b[0m │ -                      │\n",
              "│ (\u001b[38;5;33mInputLayer\u001b[0m)              │                        │                │                        │\n",
              "├───────────────────────────┼────────────────────────┼────────────────┼────────────────────────┤\n",
              "│ upsampling_block          │ (\u001b[38;5;45mNone\u001b[0m, \u001b[38;5;34m1292\u001b[0m, \u001b[38;5;34m512\u001b[0m)      │              \u001b[38;5;34m0\u001b[0m │ input_layer_1[\u001b[38;5;34m0\u001b[0m][\u001b[38;5;34m0\u001b[0m]    │\n",
              "│ (\u001b[38;5;33mUpsamplingBlock\u001b[0m)         │                        │                │                        │\n",
              "├───────────────────────────┼────────────────────────┼────────────────┼────────────────────────┤\n",
              "│ residual_block            │ (\u001b[38;5;45mNone\u001b[0m, \u001b[38;5;34m1292\u001b[0m, \u001b[38;5;34m512\u001b[0m)      │      \u001b[38;5;34m6,292,992\u001b[0m │ upsampling_block[\u001b[38;5;34m0\u001b[0m][\u001b[38;5;34m0\u001b[0m] │\n",
              "│ (\u001b[38;5;33mResidualBlock\u001b[0m)           │                        │                │                        │\n",
              "├───────────────────────────┼────────────────────────┼────────────────┼────────────────────────┤\n",
              "│ upsampling_block_1        │ (\u001b[38;5;45mNone\u001b[0m, \u001b[38;5;34m5168\u001b[0m, \u001b[38;5;34m256\u001b[0m)      │              \u001b[38;5;34m0\u001b[0m │ residual_block[\u001b[38;5;34m0\u001b[0m][\u001b[38;5;34m0\u001b[0m]   │\n",
              "│ (\u001b[38;5;33mUpsamplingBlock\u001b[0m)         │                        │                │                        │\n",
              "├───────────────────────────┼────────────────────────┼────────────────┼────────────────────────┤\n",
              "│ residual_block_1          │ (\u001b[38;5;45mNone\u001b[0m, \u001b[38;5;34m5168\u001b[0m, \u001b[38;5;34m256\u001b[0m)      │      \u001b[38;5;34m1,573,632\u001b[0m │ upsampling_block_1[\u001b[38;5;34m0\u001b[0m]… │\n",
              "│ (\u001b[38;5;33mResidualBlock\u001b[0m)           │                        │                │                        │\n",
              "├───────────────────────────┼────────────────────────┼────────────────┼────────────────────────┤\n",
              "│ upsampling_block_2        │ (\u001b[38;5;45mNone\u001b[0m, \u001b[38;5;34m20672\u001b[0m, \u001b[38;5;34m128\u001b[0m)     │              \u001b[38;5;34m0\u001b[0m │ residual_block_1[\u001b[38;5;34m0\u001b[0m][\u001b[38;5;34m0\u001b[0m] │\n",
              "│ (\u001b[38;5;33mUpsamplingBlock\u001b[0m)         │                        │                │                        │\n",
              "├───────────────────────────┼────────────────────────┼────────────────┼────────────────────────┤\n",
              "│ residual_block_2          │ (\u001b[38;5;45mNone\u001b[0m, \u001b[38;5;34m20672\u001b[0m, \u001b[38;5;34m128\u001b[0m)     │        \u001b[38;5;34m393,600\u001b[0m │ upsampling_block_2[\u001b[38;5;34m0\u001b[0m]… │\n",
              "│ (\u001b[38;5;33mResidualBlock\u001b[0m)           │                        │                │                        │\n",
              "├───────────────────────────┼────────────────────────┼────────────────┼────────────────────────┤\n",
              "│ upsampling_block_3        │ (\u001b[38;5;45mNone\u001b[0m, \u001b[38;5;34m41344\u001b[0m, \u001b[38;5;34m64\u001b[0m)      │              \u001b[38;5;34m0\u001b[0m │ residual_block_2[\u001b[38;5;34m0\u001b[0m][\u001b[38;5;34m0\u001b[0m] │\n",
              "│ (\u001b[38;5;33mUpsamplingBlock\u001b[0m)         │                        │                │                        │\n",
              "├───────────────────────────┼────────────────────────┼────────────────┼────────────────────────┤\n",
              "│ residual_block_3          │ (\u001b[38;5;45mNone\u001b[0m, \u001b[38;5;34m41344\u001b[0m, \u001b[38;5;34m64\u001b[0m)      │         \u001b[38;5;34m49,344\u001b[0m │ upsampling_block_3[\u001b[38;5;34m0\u001b[0m]… │\n",
              "│ (\u001b[38;5;33mResidualBlock\u001b[0m)           │                        │                │                        │\n",
              "├───────────────────────────┼────────────────────────┼────────────────┼────────────────────────┤\n",
              "│ conv1d_18 (\u001b[38;5;33mConv1D\u001b[0m)        │ (\u001b[38;5;45mNone\u001b[0m, \u001b[38;5;34m41344\u001b[0m, \u001b[38;5;34m16\u001b[0m)      │          \u001b[38;5;34m7,184\u001b[0m │ residual_block_3[\u001b[38;5;34m0\u001b[0m][\u001b[38;5;34m0\u001b[0m] │\n",
              "├───────────────────────────┼────────────────────────┼────────────────┼────────────────────────┤\n",
              "│ conv1d_19 (\u001b[38;5;33mConv1D\u001b[0m)        │ (\u001b[38;5;45mNone\u001b[0m, \u001b[38;5;34m41344\u001b[0m, \u001b[38;5;34m16\u001b[0m)      │          \u001b[38;5;34m3,088\u001b[0m │ residual_block_3[\u001b[38;5;34m0\u001b[0m][\u001b[38;5;34m0\u001b[0m] │\n",
              "├───────────────────────────┼────────────────────────┼────────────────┼────────────────────────┤\n",
              "│ multiply (\u001b[38;5;33mMultiply\u001b[0m)       │ (\u001b[38;5;45mNone\u001b[0m, \u001b[38;5;34m41344\u001b[0m, \u001b[38;5;34m16\u001b[0m)      │              \u001b[38;5;34m0\u001b[0m │ conv1d_18[\u001b[38;5;34m0\u001b[0m][\u001b[38;5;34m0\u001b[0m],       │\n",
              "│                           │                        │                │ conv1d_19[\u001b[38;5;34m0\u001b[0m][\u001b[38;5;34m0\u001b[0m]        │\n",
              "├───────────────────────────┼────────────────────────┼────────────────┼────────────────────────┤\n",
              "│ cropping1d (\u001b[38;5;33mCropping1D\u001b[0m)   │ (\u001b[38;5;45mNone\u001b[0m, \u001b[38;5;34m41250\u001b[0m, \u001b[38;5;34m16\u001b[0m)      │              \u001b[38;5;34m0\u001b[0m │ multiply[\u001b[38;5;34m0\u001b[0m][\u001b[38;5;34m0\u001b[0m]         │\n",
              "└───────────────────────────┴────────────────────────┴────────────────┴────────────────────────┘\n"
            ],
            "text/html": [
              "<pre style=\"white-space:pre;overflow-x:auto;line-height:normal;font-family:Menlo,'DejaVu Sans Mono',consolas,'Courier New',monospace\">┏━━━━━━━━━━━━━━━━━━━━━━━━━━━┳━━━━━━━━━━━━━━━━━━━━━━━━┳━━━━━━━━━━━━━━━━┳━━━━━━━━━━━━━━━━━━━━━━━━┓\n",
              "┃<span style=\"font-weight: bold\"> Layer (type)              </span>┃<span style=\"font-weight: bold\"> Output Shape           </span>┃<span style=\"font-weight: bold\">        Param # </span>┃<span style=\"font-weight: bold\"> Connected to           </span>┃\n",
              "┡━━━━━━━━━━━━━━━━━━━━━━━━━━━╇━━━━━━━━━━━━━━━━━━━━━━━━╇━━━━━━━━━━━━━━━━╇━━━━━━━━━━━━━━━━━━━━━━━━┩\n",
              "│ input_layer_1             │ (<span style=\"color: #00d7ff; text-decoration-color: #00d7ff\">None</span>, <span style=\"color: #00af00; text-decoration-color: #00af00\">323</span>, <span style=\"color: #00af00; text-decoration-color: #00af00\">16</span>)        │              <span style=\"color: #00af00; text-decoration-color: #00af00\">0</span> │ -                      │\n",
              "│ (<span style=\"color: #0087ff; text-decoration-color: #0087ff\">InputLayer</span>)              │                        │                │                        │\n",
              "├───────────────────────────┼────────────────────────┼────────────────┼────────────────────────┤\n",
              "│ upsampling_block          │ (<span style=\"color: #00d7ff; text-decoration-color: #00d7ff\">None</span>, <span style=\"color: #00af00; text-decoration-color: #00af00\">1292</span>, <span style=\"color: #00af00; text-decoration-color: #00af00\">512</span>)      │              <span style=\"color: #00af00; text-decoration-color: #00af00\">0</span> │ input_layer_1[<span style=\"color: #00af00; text-decoration-color: #00af00\">0</span>][<span style=\"color: #00af00; text-decoration-color: #00af00\">0</span>]    │\n",
              "│ (<span style=\"color: #0087ff; text-decoration-color: #0087ff\">UpsamplingBlock</span>)         │                        │                │                        │\n",
              "├───────────────────────────┼────────────────────────┼────────────────┼────────────────────────┤\n",
              "│ residual_block            │ (<span style=\"color: #00d7ff; text-decoration-color: #00d7ff\">None</span>, <span style=\"color: #00af00; text-decoration-color: #00af00\">1292</span>, <span style=\"color: #00af00; text-decoration-color: #00af00\">512</span>)      │      <span style=\"color: #00af00; text-decoration-color: #00af00\">6,292,992</span> │ upsampling_block[<span style=\"color: #00af00; text-decoration-color: #00af00\">0</span>][<span style=\"color: #00af00; text-decoration-color: #00af00\">0</span>] │\n",
              "│ (<span style=\"color: #0087ff; text-decoration-color: #0087ff\">ResidualBlock</span>)           │                        │                │                        │\n",
              "├───────────────────────────┼────────────────────────┼────────────────┼────────────────────────┤\n",
              "│ upsampling_block_1        │ (<span style=\"color: #00d7ff; text-decoration-color: #00d7ff\">None</span>, <span style=\"color: #00af00; text-decoration-color: #00af00\">5168</span>, <span style=\"color: #00af00; text-decoration-color: #00af00\">256</span>)      │              <span style=\"color: #00af00; text-decoration-color: #00af00\">0</span> │ residual_block[<span style=\"color: #00af00; text-decoration-color: #00af00\">0</span>][<span style=\"color: #00af00; text-decoration-color: #00af00\">0</span>]   │\n",
              "│ (<span style=\"color: #0087ff; text-decoration-color: #0087ff\">UpsamplingBlock</span>)         │                        │                │                        │\n",
              "├───────────────────────────┼────────────────────────┼────────────────┼────────────────────────┤\n",
              "│ residual_block_1          │ (<span style=\"color: #00d7ff; text-decoration-color: #00d7ff\">None</span>, <span style=\"color: #00af00; text-decoration-color: #00af00\">5168</span>, <span style=\"color: #00af00; text-decoration-color: #00af00\">256</span>)      │      <span style=\"color: #00af00; text-decoration-color: #00af00\">1,573,632</span> │ upsampling_block_1[<span style=\"color: #00af00; text-decoration-color: #00af00\">0</span>]… │\n",
              "│ (<span style=\"color: #0087ff; text-decoration-color: #0087ff\">ResidualBlock</span>)           │                        │                │                        │\n",
              "├───────────────────────────┼────────────────────────┼────────────────┼────────────────────────┤\n",
              "│ upsampling_block_2        │ (<span style=\"color: #00d7ff; text-decoration-color: #00d7ff\">None</span>, <span style=\"color: #00af00; text-decoration-color: #00af00\">20672</span>, <span style=\"color: #00af00; text-decoration-color: #00af00\">128</span>)     │              <span style=\"color: #00af00; text-decoration-color: #00af00\">0</span> │ residual_block_1[<span style=\"color: #00af00; text-decoration-color: #00af00\">0</span>][<span style=\"color: #00af00; text-decoration-color: #00af00\">0</span>] │\n",
              "│ (<span style=\"color: #0087ff; text-decoration-color: #0087ff\">UpsamplingBlock</span>)         │                        │                │                        │\n",
              "├───────────────────────────┼────────────────────────┼────────────────┼────────────────────────┤\n",
              "│ residual_block_2          │ (<span style=\"color: #00d7ff; text-decoration-color: #00d7ff\">None</span>, <span style=\"color: #00af00; text-decoration-color: #00af00\">20672</span>, <span style=\"color: #00af00; text-decoration-color: #00af00\">128</span>)     │        <span style=\"color: #00af00; text-decoration-color: #00af00\">393,600</span> │ upsampling_block_2[<span style=\"color: #00af00; text-decoration-color: #00af00\">0</span>]… │\n",
              "│ (<span style=\"color: #0087ff; text-decoration-color: #0087ff\">ResidualBlock</span>)           │                        │                │                        │\n",
              "├───────────────────────────┼────────────────────────┼────────────────┼────────────────────────┤\n",
              "│ upsampling_block_3        │ (<span style=\"color: #00d7ff; text-decoration-color: #00d7ff\">None</span>, <span style=\"color: #00af00; text-decoration-color: #00af00\">41344</span>, <span style=\"color: #00af00; text-decoration-color: #00af00\">64</span>)      │              <span style=\"color: #00af00; text-decoration-color: #00af00\">0</span> │ residual_block_2[<span style=\"color: #00af00; text-decoration-color: #00af00\">0</span>][<span style=\"color: #00af00; text-decoration-color: #00af00\">0</span>] │\n",
              "│ (<span style=\"color: #0087ff; text-decoration-color: #0087ff\">UpsamplingBlock</span>)         │                        │                │                        │\n",
              "├───────────────────────────┼────────────────────────┼────────────────┼────────────────────────┤\n",
              "│ residual_block_3          │ (<span style=\"color: #00d7ff; text-decoration-color: #00d7ff\">None</span>, <span style=\"color: #00af00; text-decoration-color: #00af00\">41344</span>, <span style=\"color: #00af00; text-decoration-color: #00af00\">64</span>)      │         <span style=\"color: #00af00; text-decoration-color: #00af00\">49,344</span> │ upsampling_block_3[<span style=\"color: #00af00; text-decoration-color: #00af00\">0</span>]… │\n",
              "│ (<span style=\"color: #0087ff; text-decoration-color: #0087ff\">ResidualBlock</span>)           │                        │                │                        │\n",
              "├───────────────────────────┼────────────────────────┼────────────────┼────────────────────────┤\n",
              "│ conv1d_18 (<span style=\"color: #0087ff; text-decoration-color: #0087ff\">Conv1D</span>)        │ (<span style=\"color: #00d7ff; text-decoration-color: #00d7ff\">None</span>, <span style=\"color: #00af00; text-decoration-color: #00af00\">41344</span>, <span style=\"color: #00af00; text-decoration-color: #00af00\">16</span>)      │          <span style=\"color: #00af00; text-decoration-color: #00af00\">7,184</span> │ residual_block_3[<span style=\"color: #00af00; text-decoration-color: #00af00\">0</span>][<span style=\"color: #00af00; text-decoration-color: #00af00\">0</span>] │\n",
              "├───────────────────────────┼────────────────────────┼────────────────┼────────────────────────┤\n",
              "│ conv1d_19 (<span style=\"color: #0087ff; text-decoration-color: #0087ff\">Conv1D</span>)        │ (<span style=\"color: #00d7ff; text-decoration-color: #00d7ff\">None</span>, <span style=\"color: #00af00; text-decoration-color: #00af00\">41344</span>, <span style=\"color: #00af00; text-decoration-color: #00af00\">16</span>)      │          <span style=\"color: #00af00; text-decoration-color: #00af00\">3,088</span> │ residual_block_3[<span style=\"color: #00af00; text-decoration-color: #00af00\">0</span>][<span style=\"color: #00af00; text-decoration-color: #00af00\">0</span>] │\n",
              "├───────────────────────────┼────────────────────────┼────────────────┼────────────────────────┤\n",
              "│ multiply (<span style=\"color: #0087ff; text-decoration-color: #0087ff\">Multiply</span>)       │ (<span style=\"color: #00d7ff; text-decoration-color: #00d7ff\">None</span>, <span style=\"color: #00af00; text-decoration-color: #00af00\">41344</span>, <span style=\"color: #00af00; text-decoration-color: #00af00\">16</span>)      │              <span style=\"color: #00af00; text-decoration-color: #00af00\">0</span> │ conv1d_18[<span style=\"color: #00af00; text-decoration-color: #00af00\">0</span>][<span style=\"color: #00af00; text-decoration-color: #00af00\">0</span>],       │\n",
              "│                           │                        │                │ conv1d_19[<span style=\"color: #00af00; text-decoration-color: #00af00\">0</span>][<span style=\"color: #00af00; text-decoration-color: #00af00\">0</span>]        │\n",
              "├───────────────────────────┼────────────────────────┼────────────────┼────────────────────────┤\n",
              "│ cropping1d (<span style=\"color: #0087ff; text-decoration-color: #0087ff\">Cropping1D</span>)   │ (<span style=\"color: #00d7ff; text-decoration-color: #00d7ff\">None</span>, <span style=\"color: #00af00; text-decoration-color: #00af00\">41250</span>, <span style=\"color: #00af00; text-decoration-color: #00af00\">16</span>)      │              <span style=\"color: #00af00; text-decoration-color: #00af00\">0</span> │ multiply[<span style=\"color: #00af00; text-decoration-color: #00af00\">0</span>][<span style=\"color: #00af00; text-decoration-color: #00af00\">0</span>]         │\n",
              "└───────────────────────────┴────────────────────────┴────────────────┴────────────────────────┘\n",
              "</pre>\n"
            ]
          },
          "metadata": {}
        },
        {
          "output_type": "display_data",
          "data": {
            "text/plain": [
              "\u001b[1m Total params: \u001b[0m\u001b[38;5;34m8,319,840\u001b[0m (31.74 MB)\n"
            ],
            "text/html": [
              "<pre style=\"white-space:pre;overflow-x:auto;line-height:normal;font-family:Menlo,'DejaVu Sans Mono',consolas,'Courier New',monospace\"><span style=\"font-weight: bold\"> Total params: </span><span style=\"color: #00af00; text-decoration-color: #00af00\">8,319,840</span> (31.74 MB)\n",
              "</pre>\n"
            ]
          },
          "metadata": {}
        },
        {
          "output_type": "display_data",
          "data": {
            "text/plain": [
              "\u001b[1m Trainable params: \u001b[0m\u001b[38;5;34m8,319,840\u001b[0m (31.74 MB)\n"
            ],
            "text/html": [
              "<pre style=\"white-space:pre;overflow-x:auto;line-height:normal;font-family:Menlo,'DejaVu Sans Mono',consolas,'Courier New',monospace\"><span style=\"font-weight: bold\"> Trainable params: </span><span style=\"color: #00af00; text-decoration-color: #00af00\">8,319,840</span> (31.74 MB)\n",
              "</pre>\n"
            ]
          },
          "metadata": {}
        },
        {
          "output_type": "display_data",
          "data": {
            "text/plain": [
              "\u001b[1m Non-trainable params: \u001b[0m\u001b[38;5;34m0\u001b[0m (0.00 B)\n"
            ],
            "text/html": [
              "<pre style=\"white-space:pre;overflow-x:auto;line-height:normal;font-family:Menlo,'DejaVu Sans Mono',consolas,'Courier New',monospace\"><span style=\"font-weight: bold\"> Non-trainable params: </span><span style=\"color: #00af00; text-decoration-color: #00af00\">0</span> (0.00 B)\n",
              "</pre>\n"
            ]
          },
          "metadata": {}
        }
      ]
    },
    {
      "cell_type": "code",
      "execution_count": null,
      "metadata": {
        "id": "RX2g2XHxR0pK",
        "collapsed": true,
        "colab": {
          "base_uri": "https://localhost:8080/"
        },
        "outputId": "95a82780-3c68-424b-aef7-17c2bce7ec5f"
      },
      "outputs": [
        {
          "output_type": "stream",
          "name": "stdout",
          "text": [
            "[Iniciando Treinamento de Representação]\n",
            "[INFO] Dataset não dividido em Batches para o treinamento.\n",
            "\n",
            "# [ Epoca 1 | Loss: 12.0887852 |  Recon. Loss: 7.1295156 | KL Loss: 49.5926971]\n",
            "# [ Epoca 16 | Loss: 1.2737327 |  Recon. Loss: 0.818414 | KL Loss: 4.5531869]\n",
            "# [ Epoca 31 | Loss: 1.3838789 |  Recon. Loss: 0.7761124 | KL Loss: 6.0776658]\n",
            "# [ Epoca 46 | Loss: 0.8866318 |  Recon. Loss: 0.7925036 | KL Loss: 0.941282]\n",
            "# [ Epoca 61 | Loss: 1.2133524 |  Recon. Loss: 0.7510482 | KL Loss: 4.6230416]\n",
            "# [ Epoca 76 | Loss: 0.8076826 |  Recon. Loss: 0.777316 | KL Loss: 0.3036664]\n",
            "# [ Epoca 91 | Loss: 0.9099581 |  Recon. Loss: 0.7456765 | KL Loss: 1.6428159]\n",
            "# [ Epoca 106 | Loss: 0.9752117 |  Recon. Loss: 0.7747583 | KL Loss: 2.0045338]\n",
            "# [ Epoca 121 | Loss: 0.7159551 |  Recon. Loss: 0.703907 | KL Loss: 0.1204815]\n",
            "# [ Epoca 136 | Loss: 0.7595376 |  Recon. Loss: 0.7152879 | KL Loss: 0.442497]\n",
            "# [ Epoca 151 | Loss: 0.8921537 |  Recon. Loss: 0.7590299 | KL Loss: 1.3312384]\n",
            "# [ Epoca 166 | Loss: 0.7430694 |  Recon. Loss: 0.7326696 | KL Loss: 0.1039984]\n",
            "# [ Epoca 181 | Loss: 0.749982 |  Recon. Loss: 0.7420609 | KL Loss: 0.0792112]\n",
            "# [ Epoca 196 | Loss: 0.7476447 |  Recon. Loss: 0.7134792 | KL Loss: 0.3416551]\n",
            "# [ Epoca 211 | Loss: 0.7179435 |  Recon. Loss: 0.676028 | KL Loss: 0.4191546]\n",
            "# [ Epoca 226 | Loss: 0.7257227 |  Recon. Loss: 0.698859 | KL Loss: 0.2686365]\n",
            "# [ Epoca 241 | Loss: 0.733497 |  Recon. Loss: 0.7087951 | KL Loss: 0.2470193]\n",
            "# [ Epoca 256 | Loss: 0.7164358 |  Recon. Loss: 0.6994486 | KL Loss: 0.1698726]\n",
            "# [ Epoca 271 | Loss: 0.6785598 |  Recon. Loss: 0.6724326 | KL Loss: 0.0612718]\n",
            "# [ Epoca 286 | Loss: 0.7000486 |  Recon. Loss: 0.6694589 | KL Loss: 0.3058963]\n",
            "# [ Epoca 301 | Loss: 0.6564989 |  Recon. Loss: 0.6454097 | KL Loss: 0.1108923]\n",
            "# [ Epoca 316 | Loss: 0.6521378 |  Recon. Loss: 0.6476314 | KL Loss: 0.0450635]\n",
            "# [ Epoca 331 | Loss: 0.6758169 |  Recon. Loss: 0.6723817 | KL Loss: 0.0343522]\n",
            "# [ Epoca 346 | Loss: 0.6763865 |  Recon. Loss: 0.6723821 | KL Loss: 0.0400434]\n",
            "# [ Epoca 361 | Loss: 0.6775093 |  Recon. Loss: 0.6723821 | KL Loss: 0.0512721]\n",
            "# [ Epoca 376 | Loss: 0.6786695 |  Recon. Loss: 0.6723819 | KL Loss: 0.0628757]\n",
            "# [ Epoca 391 | Loss: 0.6610226 |  Recon. Loss: 0.6588492 | KL Loss: 0.0217336]\n",
            "# [ Epoca 406 | Loss: 0.6745565 |  Recon. Loss: 0.6723821 | KL Loss: 0.0217438]\n",
            "# [ Epoca 421 | Loss: 0.6764438 |  Recon. Loss: 0.6723821 | KL Loss: 0.0406171]\n",
            "# [ Epoca 436 | Loss: 0.6756403 |  Recon. Loss: 0.6723821 | KL Loss: 0.0325819]\n",
            "# [ Epoca 451 | Loss: 0.6764286 |  Recon. Loss: 0.6723821 | KL Loss: 0.0404645]\n",
            "# [ Epoca 466 | Loss: 0.674672 |  Recon. Loss: 0.6723821 | KL Loss: 0.0228991]\n",
            "# [ Epoca 481 | Loss: 0.6784902 |  Recon. Loss: 0.6723821 | KL Loss: 0.0610812]\n",
            "# [ Epoca 496 | Loss: 0.6763392 |  Recon. Loss: 0.6723821 | KL Loss: 0.0395709]\n",
            "# [ Epoca 511 | Loss: 0.6837885 |  Recon. Loss: 0.6723821 | KL Loss: 0.1140637]\n",
            "# [ Epoca 526 | Loss: 0.67994 |  Recon. Loss: 0.6723821 | KL Loss: 0.0755787]\n",
            "# [ Epoca 541 | Loss: 0.6784792 |  Recon. Loss: 0.6723821 | KL Loss: 0.0609708]\n",
            "# [ Epoca 556 | Loss: 0.6741939 |  Recon. Loss: 0.6723821 | KL Loss: 0.0181183]\n",
            "# [ Epoca 571 | Loss: 0.6780651 |  Recon. Loss: 0.6723821 | KL Loss: 0.0568295]\n",
            "# [ Epoca 586 | Loss: 0.6782855 |  Recon. Loss: 0.6723821 | KL Loss: 0.0590345]\n",
            "# [ Epoca 601 | Loss: 0.6781283 |  Recon. Loss: 0.6723821 | KL Loss: 0.0574619]\n",
            "# [ Epoca 616 | Loss: 0.6770458 |  Recon. Loss: 0.6723821 | KL Loss: 0.0466373]\n",
            "# [ Epoca 631 | Loss: 0.6755127 |  Recon. Loss: 0.6723821 | KL Loss: 0.0313059]\n",
            "# [ Epoca 646 | Loss: 0.6732418 |  Recon. Loss: 0.6723821 | KL Loss: 0.008597]\n",
            "# [ Epoca 661 | Loss: 0.6729946 |  Recon. Loss: 0.6723821 | KL Loss: 0.0061251]\n",
            "# [ Epoca 676 | Loss: 0.6755707 |  Recon. Loss: 0.6723821 | KL Loss: 0.031886]\n",
            "# [ Epoca 691 | Loss: 0.673741 |  Recon. Loss: 0.6723821 | KL Loss: 0.0135886]\n",
            "# [ Epoca 706 | Loss: 0.6734101 |  Recon. Loss: 0.6723821 | KL Loss: 0.0102796]\n",
            "# [ Epoca 721 | Loss: 0.6738861 |  Recon. Loss: 0.6723821 | KL Loss: 0.0150402]\n",
            "# [ Epoca 736 | Loss: 0.6735617 |  Recon. Loss: 0.6723821 | KL Loss: 0.011796]\n",
            "# [ Epoca 751 | Loss: 0.6731834 |  Recon. Loss: 0.6723821 | KL Loss: 0.0080127]\n",
            "# [ Epoca 766 | Loss: 0.6734223 |  Recon. Loss: 0.6723821 | KL Loss: 0.0104023]\n",
            "# [ Epoca 781 | Loss: 0.6740865 |  Recon. Loss: 0.6723821 | KL Loss: 0.017044]\n",
            "# [ Epoca 796 | Loss: 0.6735396 |  Recon. Loss: 0.6723821 | KL Loss: 0.0115754]\n",
            "# [ Epoca 811 | Loss: 0.6728309 |  Recon. Loss: 0.6723821 | KL Loss: 0.0044877]\n",
            "# [ Epoca 826 | Loss: 0.6727777 |  Recon. Loss: 0.6723821 | KL Loss: 0.0039557]\n",
            "# [ Epoca 841 | Loss: 0.6745251 |  Recon. Loss: 0.6723821 | KL Loss: 0.0214304]\n",
            "# [ Epoca 856 | Loss: 0.6733463 |  Recon. Loss: 0.6723821 | KL Loss: 0.009642]\n",
            "# [ Epoca 871 | Loss: 0.6734169 |  Recon. Loss: 0.6723821 | KL Loss: 0.0103472]\n",
            "# [ Epoca 886 | Loss: 0.6730071 |  Recon. Loss: 0.6723821 | KL Loss: 0.00625]\n",
            "# [ Epoca 901 | Loss: 0.6732383 |  Recon. Loss: 0.6723821 | KL Loss: 0.0085614]\n",
            "# [ Epoca 916 | Loss: 0.6740195 |  Recon. Loss: 0.6723821 | KL Loss: 0.0163736]\n",
            "# [ Epoca 931 | Loss: 0.6732612 |  Recon. Loss: 0.6723821 | KL Loss: 0.0087909]\n",
            "# [ Epoca 946 | Loss: 0.673434 |  Recon. Loss: 0.6723821 | KL Loss: 0.0105187]\n",
            "# [ Epoca 961 | Loss: 0.6728825 |  Recon. Loss: 0.6723821 | KL Loss: 0.0050041]\n",
            "# [ Epoca 976 | Loss: 0.6732019 |  Recon. Loss: 0.6723821 | KL Loss: 0.0081975]\n",
            "# [ Epoca 991 | Loss: 0.6728445 |  Recon. Loss: 0.6723821 | KL Loss: 0.0046243]\n"
          ]
        }
      ],
      "source": [
        "# Treinando a representação do modelo\n",
        "clear_session()\n",
        "signal_losses, kl_losses = model.train(data, configs.EPOCHS, optimizer)"
      ]
    },
    {
      "cell_type": "code",
      "source": [
        "# Treinando o modelo com adversarial fine-tuning\n",
        "clear_session()\n",
        "gen_optimizer = tf.keras.optimizers.Adam(learning_rate=configs.LEARNING_RATE, beta_1=configs.BETA_1,\n",
        "                                     beta_2=configs.BETA_2, epsilon=configs.EPSILON)\n",
        "discr_optimizer = tf.keras.optimizers.Adam(learning_rate=configs.LEARNING_RATE, beta_1=configs.BETA_1,\n",
        "                                     beta_2=configs.BETA_2, epsilon=configs.EPSILON)\n",
        "generator_losses, discriminator_losses = model.train_gan(data, configs.DISCR_EPOCHS, gen_optimizer, discr_optimizer,\n",
        "                                                         configs.DISCR_HIDDEN_DIMS, configs.DISCR_KERNELS, configs.DISCR_STRIDES)"
      ],
      "metadata": {
        "id": "4y5mNjvFHPuF",
        "collapsed": true,
        "colab": {
          "base_uri": "https://localhost:8080/"
        },
        "outputId": "331c593e-6e56-4368-a40b-69f8d745b9f8"
      },
      "execution_count": null,
      "outputs": [
        {
          "output_type": "stream",
          "name": "stdout",
          "text": [
            "[Iniciando Ajuste Fino Adversarial]\n",
            "[INFO] Dataset não dividido em Batches para o treinamento.\n",
            "\n",
            "# [Epoca 1 | Generator Loss: 0.9159315824508667 | Discriminator Loss: 1.9981598854064941]\n",
            "# [Epoca 16 | Generator Loss: 4.914133071899414 | Discriminator Loss: 0.0]\n",
            "# [Epoca 31 | Generator Loss: 4.911765098571777 | Discriminator Loss: 0.0]\n",
            "# [Epoca 46 | Generator Loss: 4.911764621734619 | Discriminator Loss: 0.0]\n",
            "# [Epoca 61 | Generator Loss: 4.911764621734619 | Discriminator Loss: 0.0]\n",
            "# [Epoca 76 | Generator Loss: 4.911764621734619 | Discriminator Loss: 0.0]\n",
            "# [Epoca 91 | Generator Loss: 4.911764621734619 | Discriminator Loss: 0.0]\n",
            "# [Epoca 106 | Generator Loss: 4.911764621734619 | Discriminator Loss: 0.0]\n",
            "# [Epoca 121 | Generator Loss: 4.911764621734619 | Discriminator Loss: 0.0]\n",
            "# [Epoca 136 | Generator Loss: 4.911764621734619 | Discriminator Loss: 0.0]\n",
            "# [Epoca 151 | Generator Loss: 4.911764621734619 | Discriminator Loss: 0.0]\n",
            "# [Epoca 166 | Generator Loss: 4.911764621734619 | Discriminator Loss: 0.0]\n",
            "# [Epoca 181 | Generator Loss: 4.911764621734619 | Discriminator Loss: 0.0]\n",
            "# [Epoca 196 | Generator Loss: 4.911764621734619 | Discriminator Loss: 0.0]\n",
            "# [Epoca 211 | Generator Loss: 4.911764621734619 | Discriminator Loss: 0.0]\n",
            "# [Epoca 226 | Generator Loss: 4.911764621734619 | Discriminator Loss: 0.0]\n",
            "# [Epoca 241 | Generator Loss: 4.911764621734619 | Discriminator Loss: 0.0]\n",
            "# [Epoca 256 | Generator Loss: 4.911764621734619 | Discriminator Loss: 0.0]\n",
            "# [Epoca 271 | Generator Loss: 4.911764621734619 | Discriminator Loss: 0.0]\n",
            "# [Epoca 286 | Generator Loss: 4.911764621734619 | Discriminator Loss: 0.0]\n",
            "# [Epoca 301 | Generator Loss: 4.911764621734619 | Discriminator Loss: 0.0]\n",
            "# [Epoca 316 | Generator Loss: 4.911764621734619 | Discriminator Loss: 0.0]\n",
            "# [Epoca 331 | Generator Loss: 4.911764621734619 | Discriminator Loss: 0.0]\n",
            "# [Epoca 346 | Generator Loss: 4.911764621734619 | Discriminator Loss: 0.0]\n",
            "# [Epoca 361 | Generator Loss: 4.911764621734619 | Discriminator Loss: 0.0]\n",
            "# [Epoca 376 | Generator Loss: 4.911764621734619 | Discriminator Loss: 0.0]\n",
            "# [Epoca 391 | Generator Loss: 4.911764621734619 | Discriminator Loss: 0.0]\n",
            "# [Epoca 406 | Generator Loss: 4.911764621734619 | Discriminator Loss: 0.0]\n",
            "# [Epoca 421 | Generator Loss: 4.911764621734619 | Discriminator Loss: 0.0]\n",
            "# [Epoca 436 | Generator Loss: 4.911764621734619 | Discriminator Loss: 0.0]\n",
            "# [Epoca 451 | Generator Loss: 4.911764621734619 | Discriminator Loss: 0.0]\n",
            "# [Epoca 466 | Generator Loss: 4.911764621734619 | Discriminator Loss: 0.0]\n",
            "# [Epoca 481 | Generator Loss: 4.911764621734619 | Discriminator Loss: 0.0]\n",
            "# [Epoca 496 | Generator Loss: 4.911764621734619 | Discriminator Loss: 0.0]\n",
            "# [Epoca 511 | Generator Loss: 4.911764621734619 | Discriminator Loss: 0.0]\n",
            "# [Epoca 526 | Generator Loss: 4.911764621734619 | Discriminator Loss: 0.0]\n",
            "# [Epoca 541 | Generator Loss: 4.911764621734619 | Discriminator Loss: 0.0]\n",
            "# [Epoca 556 | Generator Loss: 4.911764621734619 | Discriminator Loss: 0.0]\n",
            "# [Epoca 571 | Generator Loss: 4.911764621734619 | Discriminator Loss: 0.0]\n",
            "# [Epoca 586 | Generator Loss: 4.911764621734619 | Discriminator Loss: 0.0]\n",
            "# [Epoca 601 | Generator Loss: 4.911764621734619 | Discriminator Loss: 0.0]\n",
            "# [Epoca 616 | Generator Loss: 4.911764621734619 | Discriminator Loss: 0.0]\n",
            "# [Epoca 631 | Generator Loss: 4.911764621734619 | Discriminator Loss: 0.0]\n",
            "# [Epoca 646 | Generator Loss: 4.911764621734619 | Discriminator Loss: 0.0]\n",
            "# [Epoca 661 | Generator Loss: 4.911764621734619 | Discriminator Loss: 0.0]\n",
            "# [Epoca 676 | Generator Loss: 4.911764621734619 | Discriminator Loss: 0.0]\n",
            "# [Epoca 691 | Generator Loss: 4.911764621734619 | Discriminator Loss: 0.0]\n",
            "# [Epoca 706 | Generator Loss: 4.911764621734619 | Discriminator Loss: 0.0]\n",
            "# [Epoca 721 | Generator Loss: 4.911764621734619 | Discriminator Loss: 0.0]\n",
            "# [Epoca 736 | Generator Loss: 4.911764621734619 | Discriminator Loss: 0.0]\n",
            "# [Epoca 751 | Generator Loss: 4.911764621734619 | Discriminator Loss: 0.0]\n",
            "# [Epoca 766 | Generator Loss: 4.911764621734619 | Discriminator Loss: 0.0]\n",
            "# [Epoca 781 | Generator Loss: 4.911764621734619 | Discriminator Loss: 0.0]\n",
            "# [Epoca 796 | Generator Loss: 4.911764621734619 | Discriminator Loss: 0.0]\n",
            "# [Epoca 811 | Generator Loss: 4.911764621734619 | Discriminator Loss: 0.0]\n",
            "# [Epoca 826 | Generator Loss: 4.911764621734619 | Discriminator Loss: 0.0]\n",
            "# [Epoca 841 | Generator Loss: 4.911764621734619 | Discriminator Loss: 0.0]\n",
            "# [Epoca 856 | Generator Loss: 4.911764621734619 | Discriminator Loss: 0.0]\n",
            "# [Epoca 871 | Generator Loss: 4.911764621734619 | Discriminator Loss: 0.0]\n",
            "# [Epoca 886 | Generator Loss: 4.911764621734619 | Discriminator Loss: 0.0]\n",
            "# [Epoca 901 | Generator Loss: 4.911764621734619 | Discriminator Loss: 0.0]\n",
            "# [Epoca 916 | Generator Loss: 4.911764621734619 | Discriminator Loss: 0.0]\n",
            "# [Epoca 931 | Generator Loss: 4.911764621734619 | Discriminator Loss: 0.0]\n",
            "# [Epoca 946 | Generator Loss: 4.911764621734619 | Discriminator Loss: 0.0]\n",
            "# [Epoca 961 | Generator Loss: 4.911764621734619 | Discriminator Loss: 0.0]\n",
            "# [Epoca 976 | Generator Loss: 4.911764621734619 | Discriminator Loss: 0.0]\n",
            "# [Epoca 991 | Generator Loss: 4.911764621734619 | Discriminator Loss: 0.0]\n"
          ]
        }
      ]
    },
    {
      "cell_type": "code",
      "execution_count": null,
      "metadata": {
        "id": "l2DfpzgngTUa"
      },
      "outputs": [],
      "source": [
        "end_time = time.time()\n",
        "execution_time = end_time - start_time\n",
        "execution_time = str(round(execution_time, 2))"
      ]
    },
    {
      "cell_type": "code",
      "execution_count": null,
      "metadata": {
        "id": "XjYPDGfigWEY"
      },
      "outputs": [],
      "source": [
        "# Obtendo medias MU para visualização do espaço latente\n",
        "mu = model.encode(data)[0]\n",
        "mu = mu.numpy()"
      ]
    },
    {
      "cell_type": "code",
      "source": [
        "# Avaliando espaço latente\n",
        "reduced_latent = model.compact_latent_representation(mu)"
      ],
      "metadata": {
        "id": "c2UiN1YdvXX7",
        "colab": {
          "base_uri": "https://localhost:8080/"
        },
        "outputId": "39b831e9-a4a8-4f4e-de8f-cd62d2005134"
      },
      "execution_count": null,
      "outputs": [
        {
          "output_type": "stream",
          "name": "stdout",
          "text": [
            "[Dimensões informativas selecionadas: 13 de 16]\n",
            "\n",
            "[Dimensões informativas: (13, 16)]\n"
          ]
        }
      ]
    },
    {
      "cell_type": "code",
      "execution_count": null,
      "metadata": {
        "id": "FNSeKoevgZZ0",
        "colab": {
          "base_uri": "https://localhost:8080/"
        },
        "outputId": "1cc044a5-7722-432c-accf-75be5d8ca4ca"
      },
      "outputs": [
        {
          "output_type": "stream",
          "name": "stdout",
          "text": [
            "[TREINAMENTOS CONCLUIDOS]\n",
            "\t - Tempo de execução: 2471.01 segundos\n",
            "[Graficos salvos em /content/drive/MyDrive/VAE_TCC/graphs/GX9266.png]\n",
            "\n"
          ]
        }
      ],
      "source": [
        "utils.show_results(execution_time)\n",
        "#utils.save_metadata(current_id, execution_time)\n",
        "utils.save_graphs(current_id, signal_losses, kl_losses, generator_losses, discriminator_losses, mu, configs.COMPACT_LATENT_SPACE)"
      ]
    },
    {
      "cell_type": "code",
      "execution_count": null,
      "metadata": {
        "id": "dvIbtQBYj0CY",
        "colab": {
          "base_uri": "https://localhost:8080/"
        },
        "outputId": "264ed27d-5f6d-49ac-94fc-e53952e38b60"
      },
      "outputs": [
        {
          "output_type": "stream",
          "name": "stdout",
          "text": [
            "[Amostragem de espaço latente COMPACTO]\n",
            "\t[INFO]Formato do espaço latente compacto: (6, 323, 13)\n",
            "\t[INFO]Dimensões informativas: 13\n",
            "\t[INFO]Amostras de espaço latente compacto: (4, 323, 13)\n",
            "\t[INFO]Amostras finais geradas: (4, 41250, 16)\n"
          ]
        }
      ],
      "source": [
        "# Gerando N formas de ondas a partir do espaço latente\n",
        "generated = model.sample(configs.NUM_SAMPLES_GENERATE, data, configs.COMPACT_LATENT_SPACE)"
      ]
    },
    {
      "cell_type": "code",
      "execution_count": null,
      "metadata": {
        "id": "RZGAr1yzj02c",
        "colab": {
          "base_uri": "https://localhost:8080/"
        },
        "outputId": "86f1b43b-f203-4945-9305-7ee0b4a85f91"
      },
      "outputs": [
        {
          "output_type": "stream",
          "name": "stdout",
          "text": [
            "[ Salvando resultado gerado 1 ] - GX9266\n",
            "[ Salvando resultado gerado 2 ] - GX9266\n",
            "[ Salvando resultado gerado 3 ] - GX9266\n",
            "[ Salvando resultado gerado 4 ] - GX9266\n"
          ]
        }
      ],
      "source": [
        "# Para cada espectrograma gerado, salva o resultado em formato de áudio e em um arquivo txt\n",
        "for i in range(configs.NUM_SAMPLES_GENERATE):\n",
        "    curr_gen = generated[i]\n",
        "    curr_gen = audio_info.multiband_synthesis(curr_gen, configs.NUM_BANDS)\n",
        "    file_result = base_path + '/results/generated_audio_' + current_id + '_' + str(i+1) + '.ogg'\n",
        "    sf.write(file_result, curr_gen, configs.AUDIO_RATE)\n",
        "    print(f\"[ Salvando resultado gerado {i + 1} ] - {current_id}\")"
      ]
    }
  ],
  "metadata": {
    "colab": {
      "provenance": [],
      "gpuType": "T4"
    },
    "kernelspec": {
      "display_name": "Python 3",
      "name": "python3"
    },
    "language_info": {
      "name": "python"
    },
    "accelerator": "GPU"
  },
  "nbformat": 4,
  "nbformat_minor": 0
}