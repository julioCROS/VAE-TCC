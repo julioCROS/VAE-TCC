{
  "cells": [
    {
      "cell_type": "markdown",
      "metadata": {
        "id": "view-in-github",
        "colab_type": "text"
      },
      "source": [
        "<a href=\"https://colab.research.google.com/github/julioCROS/VAE-TCC/blob/main/VAE_TCC.ipynb\" target=\"_parent\"><img src=\"https://colab.research.google.com/assets/colab-badge.svg\" alt=\"Open In Colab\"/></a>"
      ]
    },
    {
      "cell_type": "code",
      "execution_count": 1,
      "metadata": {
        "colab": {
          "base_uri": "https://localhost:8080/",
          "height": 335
        },
        "id": "uZhsIc2qLor1",
        "outputId": "394b61c6-1709-45d9-89c9-14b9abef37c0"
      },
      "outputs": [
        {
          "output_type": "error",
          "ename": "ValueError",
          "evalue": "mount failed",
          "traceback": [
            "\u001b[0;31m---------------------------------------------------------------------------\u001b[0m",
            "\u001b[0;31mValueError\u001b[0m                                Traceback (most recent call last)",
            "\u001b[0;32m<ipython-input-1-bce4beaf3128>\u001b[0m in \u001b[0;36m<cell line: 3>\u001b[0;34m()\u001b[0m\n\u001b[1;32m      1\u001b[0m \u001b[0;31m# Montando Drive\u001b[0m\u001b[0;34m\u001b[0m\u001b[0;34m\u001b[0m\u001b[0m\n\u001b[1;32m      2\u001b[0m \u001b[0;32mfrom\u001b[0m \u001b[0mgoogle\u001b[0m\u001b[0;34m.\u001b[0m\u001b[0mcolab\u001b[0m \u001b[0;32mimport\u001b[0m \u001b[0mdrive\u001b[0m\u001b[0;34m\u001b[0m\u001b[0;34m\u001b[0m\u001b[0m\n\u001b[0;32m----> 3\u001b[0;31m \u001b[0mdrive\u001b[0m\u001b[0;34m.\u001b[0m\u001b[0mmount\u001b[0m\u001b[0;34m(\u001b[0m\u001b[0;34m'/content/drive'\u001b[0m\u001b[0;34m)\u001b[0m\u001b[0;34m\u001b[0m\u001b[0;34m\u001b[0m\u001b[0m\n\u001b[0m",
            "\u001b[0;32m/usr/local/lib/python3.10/dist-packages/google/colab/drive.py\u001b[0m in \u001b[0;36mmount\u001b[0;34m(mountpoint, force_remount, timeout_ms, readonly)\u001b[0m\n\u001b[1;32m     98\u001b[0m \u001b[0;32mdef\u001b[0m \u001b[0mmount\u001b[0m\u001b[0;34m(\u001b[0m\u001b[0mmountpoint\u001b[0m\u001b[0;34m,\u001b[0m \u001b[0mforce_remount\u001b[0m\u001b[0;34m=\u001b[0m\u001b[0;32mFalse\u001b[0m\u001b[0;34m,\u001b[0m \u001b[0mtimeout_ms\u001b[0m\u001b[0;34m=\u001b[0m\u001b[0;36m120000\u001b[0m\u001b[0;34m,\u001b[0m \u001b[0mreadonly\u001b[0m\u001b[0;34m=\u001b[0m\u001b[0;32mFalse\u001b[0m\u001b[0;34m)\u001b[0m\u001b[0;34m:\u001b[0m\u001b[0;34m\u001b[0m\u001b[0;34m\u001b[0m\u001b[0m\n\u001b[1;32m     99\u001b[0m   \u001b[0;34m\"\"\"Mount your Google Drive at the specified mountpoint path.\"\"\"\u001b[0m\u001b[0;34m\u001b[0m\u001b[0;34m\u001b[0m\u001b[0m\n\u001b[0;32m--> 100\u001b[0;31m   return _mount(\n\u001b[0m\u001b[1;32m    101\u001b[0m       \u001b[0mmountpoint\u001b[0m\u001b[0;34m,\u001b[0m\u001b[0;34m\u001b[0m\u001b[0;34m\u001b[0m\u001b[0m\n\u001b[1;32m    102\u001b[0m       \u001b[0mforce_remount\u001b[0m\u001b[0;34m=\u001b[0m\u001b[0mforce_remount\u001b[0m\u001b[0;34m,\u001b[0m\u001b[0;34m\u001b[0m\u001b[0;34m\u001b[0m\u001b[0m\n",
            "\u001b[0;32m/usr/local/lib/python3.10/dist-packages/google/colab/drive.py\u001b[0m in \u001b[0;36m_mount\u001b[0;34m(mountpoint, force_remount, timeout_ms, ephemeral, readonly)\u001b[0m\n\u001b[1;32m    275\u001b[0m             \u001b[0;34m'https://research.google.com/colaboratory/faq.html#drive-timeout'\u001b[0m\u001b[0;34m\u001b[0m\u001b[0;34m\u001b[0m\u001b[0m\n\u001b[1;32m    276\u001b[0m         )\n\u001b[0;32m--> 277\u001b[0;31m       \u001b[0;32mraise\u001b[0m \u001b[0mValueError\u001b[0m\u001b[0;34m(\u001b[0m\u001b[0;34m'mount failed'\u001b[0m \u001b[0;34m+\u001b[0m \u001b[0mextra_reason\u001b[0m\u001b[0;34m)\u001b[0m\u001b[0;34m\u001b[0m\u001b[0;34m\u001b[0m\u001b[0m\n\u001b[0m\u001b[1;32m    278\u001b[0m     \u001b[0;32melif\u001b[0m \u001b[0mcase\u001b[0m \u001b[0;34m==\u001b[0m \u001b[0;36m4\u001b[0m\u001b[0;34m:\u001b[0m\u001b[0;34m\u001b[0m\u001b[0;34m\u001b[0m\u001b[0m\n\u001b[1;32m    279\u001b[0m       \u001b[0;31m# Terminate the DriveFS binary before killing bash.\u001b[0m\u001b[0;34m\u001b[0m\u001b[0;34m\u001b[0m\u001b[0m\n",
            "\u001b[0;31mValueError\u001b[0m: mount failed"
          ]
        }
      ],
      "source": [
        "# Montando Drive\n",
        "from google.colab import drive\n",
        "drive.mount('/content/drive')"
      ]
    },
    {
      "cell_type": "code",
      "execution_count": null,
      "metadata": {
        "id": "-8pC33zCMVdb"
      },
      "outputs": [],
      "source": [
        "# Definindo diretório padrão deste notebook\n",
        "import sys\n",
        "base_path = \"/content/drive/MyDrive/VAE_TCC\"\n",
        "sys.path.append(base_path)"
      ]
    },
    {
      "cell_type": "code",
      "execution_count": null,
      "metadata": {
        "collapsed": true,
        "id": "ZGjOC5nBWWwN"
      },
      "outputs": [],
      "source": [
        "# Instalando bibliotecas auxiliares\n",
        "!pip install tensorflow\n",
        "!pip install soundfile\n",
        "!pip install auraloss\n",
        "!pip install librosa"
      ]
    },
    {
      "cell_type": "code",
      "execution_count": null,
      "metadata": {
        "id": "DKSqM9CPTFaa"
      },
      "outputs": [],
      "source": [
        "# Importando bibliotecas auxiliares\n",
        "import time\n",
        "import soundfile as sf\n",
        "import tensorflow as tf\n",
        "from tensorflow.keras.backend import clear_session"
      ]
    },
    {
      "cell_type": "code",
      "execution_count": null,
      "metadata": {
        "id": "Vnt24pu7XfBx"
      },
      "outputs": [],
      "source": [
        "# Importando arquivos auxiliares\n",
        "import utils\n",
        "import config\n",
        "from VAE import VAE\n",
        "from AudioData import AudioData"
      ]
    },
    {
      "cell_type": "code",
      "execution_count": null,
      "metadata": {
        "colab": {
          "base_uri": "https://localhost:8080/"
        },
        "id": "guR0U7aKRooy",
        "outputId": "cc92032e-04ca-4e7a-9775-9e684a959eb5"
      },
      "outputs": [
        {
          "output_type": "execute_result",
          "data": {
            "text/plain": [
              "<module 'utils' from '/content/drive/MyDrive/VAE_TCC/utils.py'>"
            ]
          },
          "metadata": {},
          "execution_count": 6
        }
      ],
      "source": [
        "# Re-carregando arquivos para garantia de alterações\n",
        "import importlib\n",
        "importlib.reload(config)\n",
        "importlib.reload(utils)"
      ]
    },
    {
      "cell_type": "code",
      "execution_count": null,
      "metadata": {
        "colab": {
          "base_uri": "https://localhost:8080/"
        },
        "id": "moYeIWWfXpbe",
        "outputId": "8addad50-f33b-44d1-ef73-0619a6a9715c"
      },
      "outputs": [
        {
          "output_type": "stream",
          "name": "stdout",
          "text": [
            "[ID do Experimento] - IU2675\n"
          ]
        }
      ],
      "source": [
        "start_time = time.time()\n",
        "current_id = utils.generate_random_id()\n",
        "print(f\"[ID do Experimento] - {current_id}\")"
      ]
    },
    {
      "cell_type": "code",
      "execution_count": null,
      "metadata": {
        "id": "TsTPjfxpXwJF"
      },
      "outputs": [],
      "source": [
        "# Carregando os dados de áudio e instanciando otimizador\n",
        "audio_data = AudioData(audio_path=config.audio_path, duration=config.audio_duration, sr=config.audio_rate, n_mels=config.num_mels)\n",
        "optimizer = tf.keras.optimizers.Adam(learning_rate=config.learning_rate)"
      ]
    },
    {
      "cell_type": "code",
      "execution_count": null,
      "metadata": {
        "colab": {
          "base_uri": "https://localhost:8080/"
        },
        "id": "rB8kyVV6YOrg",
        "outputId": "a87ecbf7-4e3e-4a97-b3c9-4092ae46f0b3"
      },
      "outputs": [
        {
          "output_type": "stream",
          "name": "stdout",
          "text": [
            "[Extraindo formas de onda]\n",
            " - fancy: OK\n",
            " - ethereal: OK\n",
            "\n",
            "[Dados de Treinamento] - Formato: (2, 132000, 1)\n"
          ]
        }
      ],
      "source": [
        "# Extraindo dados de Treinamento\n",
        "data = audio_data.get_mel_spectrograms(num_audio_samples=config.num_audio_samples)\n",
        "data = data.reshape(data.shape[0], data.shape[1], 1)\n",
        "print(f\"[Dados de Treinamento] - Formato: {data.shape}\")"
      ]
    },
    {
      "cell_type": "code",
      "execution_count": null,
      "metadata": {
        "id": "-YXfCGNrRuWJ",
        "colab": {
          "base_uri": "https://localhost:8080/"
        },
        "outputId": "a1091439-c2d8-4be9-fc11-82417fbdb5ee"
      },
      "outputs": [
        {
          "output_type": "stream",
          "name": "stdout",
          "text": [
            "[Incializando VAE]\n",
            "[INFO] Cropping necessário para equivalência de saídas. (132096 != 132000)\n"
          ]
        }
      ],
      "source": [
        "# Inicializando o modelo\n",
        "model = VAE(input_shape=data.shape, latent_dim=config.latent_dim, hidden_dims=config.hidden_dims,\n",
        "            id=current_id, duration=config.audio_duration, rate=config.audio_rate, kernel_sizes=config.kernel_sizes,\n",
        "            strides=config.strides, kl_annealing_rate=config.kl_annealing_rate, max_kl_weight=config.max_kl_weight,\n",
        "            batch_size=config.batch_size, residual_depth=config.residual_depth)\n"
      ]
    },
    {
      "cell_type": "code",
      "execution_count": null,
      "metadata": {
        "colab": {
          "base_uri": "https://localhost:8080/",
          "height": 213
        },
        "id": "qPhQRwbNYp23",
        "outputId": "e03a5835-bfff-4733-c420-b8dfe6127670"
      },
      "outputs": [
        {
          "output_type": "display_data",
          "data": {
            "text/plain": [
              "\u001b[1mModel: \"vae\"\u001b[0m\n"
            ],
            "text/html": [
              "<pre style=\"white-space:pre;overflow-x:auto;line-height:normal;font-family:Menlo,'DejaVu Sans Mono',consolas,'Courier New',monospace\"><span style=\"font-weight: bold\">Model: \"vae\"</span>\n",
              "</pre>\n"
            ]
          },
          "metadata": {}
        },
        {
          "output_type": "display_data",
          "data": {
            "text/plain": [
              "┏━━━━━━━━━━━━━━━━━━━━━━━━━━━━━━━━━━━━━━┳━━━━━━━━━━━━━━━━━━━━━━━━━━━━━┳━━━━━━━━━━━━━━━━━┓\n",
              "┃\u001b[1m \u001b[0m\u001b[1mLayer (type)                        \u001b[0m\u001b[1m \u001b[0m┃\u001b[1m \u001b[0m\u001b[1mOutput Shape               \u001b[0m\u001b[1m \u001b[0m┃\u001b[1m \u001b[0m\u001b[1m        Param #\u001b[0m\u001b[1m \u001b[0m┃\n",
              "┡━━━━━━━━━━━━━━━━━━━━━━━━━━━━━━━━━━━━━━╇━━━━━━━━━━━━━━━━━━━━━━━━━━━━━╇━━━━━━━━━━━━━━━━━┩\n",
              "│ Encoder (\u001b[38;5;33mFunctional\u001b[0m)                 │ [(None, 1032, 8), (None,    │         \u001b[38;5;34m865,488\u001b[0m │\n",
              "│                                      │ 1032, 8)]                   │                 │\n",
              "├──────────────────────────────────────┼─────────────────────────────┼─────────────────┤\n",
              "│ Decoder (\u001b[38;5;33mFunctional\u001b[0m)                 │ (None, 132000, 1)           │          \u001b[38;5;34m12,932\u001b[0m │\n",
              "└──────────────────────────────────────┴─────────────────────────────┴─────────────────┘\n"
            ],
            "text/html": [
              "<pre style=\"white-space:pre;overflow-x:auto;line-height:normal;font-family:Menlo,'DejaVu Sans Mono',consolas,'Courier New',monospace\">┏━━━━━━━━━━━━━━━━━━━━━━━━━━━━━━━━━━━━━━┳━━━━━━━━━━━━━━━━━━━━━━━━━━━━━┳━━━━━━━━━━━━━━━━━┓\n",
              "┃<span style=\"font-weight: bold\"> Layer (type)                         </span>┃<span style=\"font-weight: bold\"> Output Shape                </span>┃<span style=\"font-weight: bold\">         Param # </span>┃\n",
              "┡━━━━━━━━━━━━━━━━━━━━━━━━━━━━━━━━━━━━━━╇━━━━━━━━━━━━━━━━━━━━━━━━━━━━━╇━━━━━━━━━━━━━━━━━┩\n",
              "│ Encoder (<span style=\"color: #0087ff; text-decoration-color: #0087ff\">Functional</span>)                 │ [(None, 1032, 8), (None,    │         <span style=\"color: #00af00; text-decoration-color: #00af00\">865,488</span> │\n",
              "│                                      │ 1032, 8)]                   │                 │\n",
              "├──────────────────────────────────────┼─────────────────────────────┼─────────────────┤\n",
              "│ Decoder (<span style=\"color: #0087ff; text-decoration-color: #0087ff\">Functional</span>)                 │ (None, 132000, 1)           │          <span style=\"color: #00af00; text-decoration-color: #00af00\">12,932</span> │\n",
              "└──────────────────────────────────────┴─────────────────────────────┴─────────────────┘\n",
              "</pre>\n"
            ]
          },
          "metadata": {}
        },
        {
          "output_type": "display_data",
          "data": {
            "text/plain": [
              "\u001b[1m Total params: \u001b[0m\u001b[38;5;34m878,420\u001b[0m (3.35 MB)\n"
            ],
            "text/html": [
              "<pre style=\"white-space:pre;overflow-x:auto;line-height:normal;font-family:Menlo,'DejaVu Sans Mono',consolas,'Courier New',monospace\"><span style=\"font-weight: bold\"> Total params: </span><span style=\"color: #00af00; text-decoration-color: #00af00\">878,420</span> (3.35 MB)\n",
              "</pre>\n"
            ]
          },
          "metadata": {}
        },
        {
          "output_type": "display_data",
          "data": {
            "text/plain": [
              "\u001b[1m Trainable params: \u001b[0m\u001b[38;5;34m876,500\u001b[0m (3.34 MB)\n"
            ],
            "text/html": [
              "<pre style=\"white-space:pre;overflow-x:auto;line-height:normal;font-family:Menlo,'DejaVu Sans Mono',consolas,'Courier New',monospace\"><span style=\"font-weight: bold\"> Trainable params: </span><span style=\"color: #00af00; text-decoration-color: #00af00\">876,500</span> (3.34 MB)\n",
              "</pre>\n"
            ]
          },
          "metadata": {}
        },
        {
          "output_type": "display_data",
          "data": {
            "text/plain": [
              "\u001b[1m Non-trainable params: \u001b[0m\u001b[38;5;34m1,920\u001b[0m (7.50 KB)\n"
            ],
            "text/html": [
              "<pre style=\"white-space:pre;overflow-x:auto;line-height:normal;font-family:Menlo,'DejaVu Sans Mono',consolas,'Courier New',monospace\"><span style=\"font-weight: bold\"> Non-trainable params: </span><span style=\"color: #00af00; text-decoration-color: #00af00\">1,920</span> (7.50 KB)\n",
              "</pre>\n"
            ]
          },
          "metadata": {}
        }
      ],
      "source": [
        "# Visualizando modelo\n",
        "model.summary()"
      ]
    },
    {
      "cell_type": "code",
      "execution_count": null,
      "metadata": {
        "colab": {
          "base_uri": "https://localhost:8080/"
        },
        "id": "RX2g2XHxR0pK",
        "outputId": "cba770d8-0e54-44a7-bfea-6d6019c026e5"
      },
      "outputs": [
        {
          "output_type": "stream",
          "name": "stdout",
          "text": [
            "\n",
            "[Iniciando treinamento de representação]\n",
            "[INFO] Dataset não dividido em Batches para o treinamento.\n",
            "\n",
            "[ Epoca 1 | Loss: 0.0476901 |  Recon. Loss: 0.0476901 | KL Loss: 158.8240051]\n",
            "[ Epoca 2 | Loss: 1.0834384 |  Recon. Loss: 0.0444257 | KL Loss: 155.8518982]\n",
            "[ Epoca 3 | Loss: 2.0487051 |  Recon. Loss: 0.0385855 | KL Loss: 150.7589722]\n",
            "[ Epoca 4 | Loss: 2.8962727 |  Recon. Loss: 0.033476 | KL Loss: 143.1398315]\n",
            "[ Epoca 5 | Loss: 3.5454385 |  Recon. Loss: 0.0404125 | KL Loss: 131.4384766]\n",
            "[ Epoca 6 | Loss: 3.8521869 |  Recon. Loss: 0.0370048 | KL Loss: 114.4554596]\n",
            "[ Epoca 7 | Loss: 3.7126098 |  Recon. Loss: 0.0314037 | KL Loss: 92.0301514]\n",
            "[ Epoca 8 | Loss: 3.1026711 |  Recon. Loss: 0.0325505 | KL Loss: 65.7882996]\n",
            "[ Epoca 9 | Loss: 2.1426539 |  Recon. Loss: 0.0332872 | KL Loss: 39.5506248]\n",
            "[ Epoca 10 | Loss: 1.1488733 |  Recon. Loss: 0.0355904 | KL Loss: 18.5547161]\n",
            "[ Epoca 11 | Loss: 0.473848 |  Recon. Loss: 0.0292149 | KL Loss: 6.6694965]\n",
            "[ Epoca 12 | Loss: 0.181277 |  Recon. Loss: 0.02908 | KL Loss: 2.0754139]\n",
            "[ Epoca 13 | Loss: 0.3561521 |  Recon. Loss: 0.0299595 | KL Loss: 4.0774083]\n",
            "[ Epoca 14 | Loss: 0.5751347 |  Recon. Loss: 0.0310229 | KL Loss: 6.278214]\n",
            "[ Epoca 15 | Loss: 0.5927525 |  Recon. Loss: 0.0267884 | KL Loss: 6.0639009]\n",
            "[ Epoca 16 | Loss: 0.541036 |  Recon. Loss: 0.0288015 | KL Loss: 5.122345]\n",
            "[ Epoca 17 | Loss: 0.7089874 |  Recon. Loss: 0.0301533 | KL Loss: 6.3640699]\n",
            "[ Epoca 18 | Loss: 0.5953828 |  Recon. Loss: 0.0286192 | KL Loss: 5.0008545]\n",
            "[ Epoca 19 | Loss: 0.5995059 |  Recon. Loss: 0.0331955 | KL Loss: 4.7192535]\n",
            "[ Epoca 20 | Loss: 0.5880747 |  Recon. Loss: 0.0296942 | KL Loss: 4.4082675]\n",
            "[ Epoca 21 | Loss: 0.4624698 |  Recon. Loss: 0.0278921 | KL Loss: 3.2593327]\n",
            "[ Epoca 22 | Loss: 0.4070666 |  Recon. Loss: 0.0279143 | KL Loss: 2.7082303]\n",
            "[ Epoca 23 | Loss: 0.4898777 |  Recon. Loss: 0.0338253 | KL Loss: 3.1094484]\n",
            "[ Epoca 24 | Loss: 0.1890698 |  Recon. Loss: 0.0279181 | KL Loss: 1.0509889]\n",
            "[ Epoca 25 | Loss: 0.5184252 |  Recon. Loss: 0.0267481 | KL Loss: 3.0729821]\n",
            "[ Epoca 26 | Loss: 0.0591226 |  Recon. Loss: 0.0275596 | KL Loss: 0.1893782]\n",
            "[ Epoca 27 | Loss: 0.4669764 |  Recon. Loss: 0.0258148 | KL Loss: 2.5451629]\n",
            "[ Epoca 28 | Loss: 0.081235 |  Recon. Loss: 0.0276246 | KL Loss: 0.2978354]\n",
            "[ Epoca 29 | Loss: 0.2748899 |  Recon. Loss: 0.0264886 | KL Loss: 1.330721]\n",
            "[ Epoca 30 | Loss: 0.2135186 |  Recon. Loss: 0.0281716 | KL Loss: 0.9586914]\n",
            "[ Epoca 31 | Loss: 0.0808668 |  Recon. Loss: 0.029256 | KL Loss: 0.2580541]\n",
            "[ Epoca 32 | Loss: 0.2602842 |  Recon. Loss: 0.0302289 | KL Loss: 1.1131712]\n",
            "[ Epoca 33 | Loss: 0.0783631 |  Recon. Loss: 0.0264469 | KL Loss: 0.2433573]\n",
            "[ Epoca 34 | Loss: 0.1237452 |  Recon. Loss: 0.0270808 | KL Loss: 0.4393837]\n",
            "[ Epoca 35 | Loss: 0.1824179 |  Recon. Loss: 0.0323357 | KL Loss: 0.6621272]\n",
            "[ Epoca 36 | Loss: 0.0513088 |  Recon. Loss: 0.0318085 | KL Loss: 0.083573]\n",
            "[ Epoca 37 | Loss: 0.135169 |  Recon. Loss: 0.0307541 | KL Loss: 0.4350621]\n",
            "[ Epoca 38 | Loss: 0.1228427 |  Recon. Loss: 0.028371 | KL Loss: 0.3829935]\n",
            "[ Epoca 39 | Loss: 0.0484651 |  Recon. Loss: 0.0293575 | KL Loss: 0.0754245]\n",
            "[ Epoca 40 | Loss: 0.1274005 |  Recon. Loss: 0.0312118 | KL Loss: 0.3699564]\n",
            "[ Epoca 41 | Loss: 0.0926612 |  Recon. Loss: 0.0277647 | KL Loss: 0.2433619]\n",
            "[ Epoca 42 | Loss: 0.055867 |  Recon. Loss: 0.0281705 | KL Loss: 0.1013288]\n",
            "[ Epoca 43 | Loss: 0.1131003 |  Recon. Loss: 0.0279506 | KL Loss: 0.3041058]\n",
            "[ Epoca 44 | Loss: 0.0778261 |  Recon. Loss: 0.0259446 | KL Loss: 0.180982]\n",
            "[ Epoca 45 | Loss: 0.0627861 |  Recon. Loss: 0.0264807 | KL Loss: 0.1237685]\n",
            "[ Epoca 46 | Loss: 0.1025077 |  Recon. Loss: 0.0270294 | KL Loss: 0.2515942]\n",
            "[ Epoca 47 | Loss: 0.0721964 |  Recon. Loss: 0.0279967 | KL Loss: 0.1441295]\n",
            "[ Epoca 48 | Loss: 0.0674602 |  Recon. Loss: 0.025438 | KL Loss: 0.1341134]\n",
            "[ Epoca 49 | Loss: 0.0908296 |  Recon. Loss: 0.0253161 | KL Loss: 0.2047299]\n",
            "[ Epoca 50 | Loss: 0.0608064 |  Recon. Loss: 0.0253685 | KL Loss: 0.1084836]\n",
            "[ Epoca 51 | Loss: 0.0732915 |  Recon. Loss: 0.0277146 | KL Loss: 0.1367307]\n",
            "[ Epoca 52 | Loss: 0.078256 |  Recon. Loss: 0.0266898 | KL Loss: 0.1516653]\n",
            "[ Epoca 53 | Loss: 0.0532308 |  Recon. Loss: 0.0262778 | KL Loss: 0.0777489]\n",
            "[ Epoca 54 | Loss: 0.0745587 |  Recon. Loss: 0.0254561 | KL Loss: 0.1389696]\n",
            "[ Epoca 55 | Loss: 0.0542761 |  Recon. Loss: 0.0259134 | KL Loss: 0.0787854]\n",
            "[ Epoca 56 | Loss: 0.0608848 |  Recon. Loss: 0.0266762 | KL Loss: 0.0932961]\n",
            "[ Epoca 57 | Loss: 0.0594099 |  Recon. Loss: 0.0259491 | KL Loss: 0.0896269]\n",
            "[ Epoca 58 | Loss: 0.0478093 |  Recon. Loss: 0.0250531 | KL Loss: 0.0598847]\n",
            "[ Epoca 59 | Loss: 0.0588122 |  Recon. Loss: 0.0251937 | KL Loss: 0.0869444]\n",
            "[ Epoca 60 | Loss: 0.0448793 |  Recon. Loss: 0.0271584 | KL Loss: 0.0450532]\n",
            "[ Epoca 61 | Loss: 0.0587934 |  Recon. Loss: 0.0280927 | KL Loss: 0.0767518]\n",
            "[ Epoca 62 | Loss: 0.0395283 |  Recon. Loss: 0.0247938 | KL Loss: 0.0362322]\n",
            "[ Epoca 63 | Loss: 0.0534119 |  Recon. Loss: 0.0259026 | KL Loss: 0.0665547]\n",
            "[ Epoca 64 | Loss: 0.0405247 |  Recon. Loss: 0.0262313 | KL Loss: 0.0340319]\n",
            "[ Epoca 65 | Loss: 0.0527909 |  Recon. Loss: 0.0290553 | KL Loss: 0.0556304]\n",
            "[ Epoca 66 | Loss: 0.045508 |  Recon. Loss: 0.0256342 | KL Loss: 0.0458628]\n",
            "[ Epoca 67 | Loss: 0.0761728 |  Recon. Loss: 0.0279305 | KL Loss: 0.1096414]\n",
            "[ Epoca 68 | Loss: 0.2412352 |  Recon. Loss: 0.0261413 | KL Loss: 0.4815536]\n",
            "[ Epoca 69 | Loss: 1.0824676 |  Recon. Loss: 0.0257891 | KL Loss: 2.3309081]\n",
            "[ Epoca 70 | Loss: 2.0182855 |  Recon. Loss: 0.025595 | KL Loss: 4.3319359]\n",
            "[ Epoca 71 | Loss: 0.5182511 |  Recon. Loss: 0.0253545 | KL Loss: 1.0562071]\n",
            "[ Epoca 72 | Loss: 1.0445319 |  Recon. Loss: 0.0258306 | KL Loss: 2.1521859]\n",
            "[ Epoca 73 | Loss: 0.2476547 |  Recon. Loss: 0.02577 | KL Loss: 0.4622599]\n",
            "[ Epoca 74 | Loss: 0.7767661 |  Recon. Loss: 0.026292 | KL Loss: 1.5420699]\n",
            "[ Epoca 75 | Loss: 0.3876683 |  Recon. Loss: 0.0249899 | KL Loss: 0.7351589]\n",
            "[ Epoca 76 | Loss: 0.3960819 |  Recon. Loss: 0.026548 | KL Loss: 0.7390677]\n",
            "[ Epoca 77 | Loss: 0.6972331 |  Recon. Loss: 0.0259969 | KL Loss: 1.3248084]\n",
            "[ Epoca 78 | Loss: 0.5147797 |  Recon. Loss: 0.0255781 | KL Loss: 0.9529903]\n",
            "[ Epoca 79 | Loss: 0.3990477 |  Recon. Loss: 0.0246651 | KL Loss: 0.7199665]\n",
            "[ Epoca 80 | Loss: 0.5338218 |  Recon. Loss: 0.0252766 | KL Loss: 0.9655921]\n",
            "[ Epoca 81 | Loss: 0.3979458 |  Recon. Loss: 0.0253508 | KL Loss: 0.6986157]\n",
            "[ Epoca 82 | Loss: 0.2024689 |  Recon. Loss: 0.0248637 | KL Loss: 0.3288985]\n",
            "[ Epoca 83 | Loss: 0.3287422 |  Recon. Loss: 0.0247529 | KL Loss: 0.5560781]\n",
            "[ Epoca 84 | Loss: 0.2100174 |  Recon. Loss: 0.0248896 | KL Loss: 0.3345682]\n",
            "[ Epoca 85 | Loss: 0.1488368 |  Recon. Loss: 0.0248171 | KL Loss: 0.2214637]\n",
            "[ Epoca 86 | Loss: 0.2523695 |  Recon. Loss: 0.0247249 | KL Loss: 0.4017257]\n",
            "[ Epoca 87 | Loss: 0.0905165 |  Recon. Loss: 0.024741 | KL Loss: 0.1147247]\n",
            "[ Epoca 88 | Loss: 0.2305966 |  Recon. Loss: 0.0273616 | KL Loss: 0.3504052]\n",
            "[ Epoca 89 | Loss: 0.0864697 |  Recon. Loss: 0.0250348 | KL Loss: 0.1047186]\n",
            "[ Epoca 90 | Loss: 0.2007823 |  Recon. Loss: 0.0258176 | KL Loss: 0.2948844]\n",
            "[ Epoca 91 | Loss: 0.0744188 |  Recon. Loss: 0.02467 | KL Loss: 0.0829147]\n",
            "[ Epoca 92 | Loss: 0.189899 |  Recon. Loss: 0.025361 | KL Loss: 0.2712166]\n",
            "[ Epoca 93 | Loss: 0.0528195 |  Recon. Loss: 0.0243174 | KL Loss: 0.0464707]\n",
            "[ Epoca 94 | Loss: 0.1772055 |  Recon. Loss: 0.0248842 | KL Loss: 0.2456795]\n",
            "[ Epoca 95 | Loss: 0.047942 |  Recon. Loss: 0.0243879 | KL Loss: 0.0375863]\n",
            "[ Epoca 96 | Loss: 0.1511023 |  Recon. Loss: 0.0251059 | KL Loss: 0.1989417]\n",
            "[ Epoca 97 | Loss: 0.0492369 |  Recon. Loss: 0.0248465 | KL Loss: 0.0381099]\n",
            "[ Epoca 98 | Loss: 0.1265361 |  Recon. Loss: 0.024428 | KL Loss: 0.1578993]\n",
            "[ Epoca 99 | Loss: 0.0571547 |  Recon. Loss: 0.0246757 | KL Loss: 0.0497127]\n",
            "[ Epoca 100 | Loss: 0.0909474 |  Recon. Loss: 0.0246396 | KL Loss: 0.1004663]\n",
            "[ Epoca 101 | Loss: 0.0732278 |  Recon. Loss: 0.02433 | KL Loss: 0.0733468]\n",
            "[ Epoca 102 | Loss: 0.0613428 |  Recon. Loss: 0.0246587 | KL Loss: 0.0544814]\n",
            "[ Epoca 103 | Loss: 0.0842757 |  Recon. Loss: 0.0246546 | KL Loss: 0.0876781]\n",
            "[ Epoca 104 | Loss: 0.0404249 |  Recon. Loss: 0.0244812 | KL Loss: 0.023219]\n",
            "[ Epoca 105 | Loss: 0.0835826 |  Recon. Loss: 0.0249596 | KL Loss: 0.0845524]\n",
            "[ Epoca 106 | Loss: 0.036577 |  Recon. Loss: 0.0246587 | KL Loss: 0.0170262]\n",
            "[ Epoca 107 | Loss: 0.0733845 |  Recon. Loss: 0.0243626 | KL Loss: 0.0693707]\n",
            "[ Epoca 108 | Loss: 0.04082 |  Recon. Loss: 0.0250315 | KL Loss: 0.0221334]\n",
            "[ Epoca 109 | Loss: 0.0573496 |  Recon. Loss: 0.024367 | KL Loss: 0.0458092]\n",
            "[ Epoca 110 | Loss: 0.0494916 |  Recon. Loss: 0.0244964 | KL Loss: 0.0343971]\n",
            "[ Epoca 111 | Loss: 0.0458829 |  Recon. Loss: 0.0260542 | KL Loss: 0.0270391]\n",
            "[ Epoca 112 | Loss: 0.0525862 |  Recon. Loss: 0.0244552 | KL Loss: 0.0380148]\n",
            "[ Epoca 113 | Loss: 0.0382123 |  Recon. Loss: 0.0244021 | KL Loss: 0.0184958]\n",
            "[ Epoca 114 | Loss: 0.0519796 |  Recon. Loss: 0.0242645 | KL Loss: 0.0367899]\n",
            "[ Epoca 115 | Loss: 0.0375185 |  Recon. Loss: 0.024371 | KL Loss: 0.0172992]\n",
            "[ Epoca 116 | Loss: 0.0437723 |  Recon. Loss: 0.0245664 | KL Loss: 0.0250512]\n",
            "[ Epoca 117 | Loss: 0.0427857 |  Recon. Loss: 0.0242103 | KL Loss: 0.0240199]\n",
            "[ Epoca 118 | Loss: 0.0380976 |  Recon. Loss: 0.0241842 | KL Loss: 0.0178378]\n",
            "[ Epoca 119 | Loss: 0.0446772 |  Recon. Loss: 0.0246616 | KL Loss: 0.0254436]\n",
            "[ Epoca 120 | Loss: 0.0370197 |  Recon. Loss: 0.0248477 | KL Loss: 0.0153429]\n",
            "[ Epoca 121 | Loss: 0.0395285 |  Recon. Loss: 0.0242326 | KL Loss: 0.0191199]\n",
            "[ Epoca 122 | Loss: 0.041242 |  Recon. Loss: 0.0243508 | KL Loss: 0.0209395]\n",
            "[ Epoca 123 | Loss: 0.0379522 |  Recon. Loss: 0.0241925 | KL Loss: 0.0169176]\n",
            "[ Epoca 124 | Loss: 0.0490992 |  Recon. Loss: 0.025251 | KL Loss: 0.0290832]\n",
            "[ Epoca 125 | Loss: 0.0614545 |  Recon. Loss: 0.024023 | KL Loss: 0.0452801]\n",
            "[ Epoca 126 | Loss: 0.1255514 |  Recon. Loss: 0.0242477 | KL Loss: 0.1215645]\n",
            "[ Epoca 127 | Loss: 0.36821 |  Recon. Loss: 0.0243395 | KL Loss: 0.4093696]\n",
            "[ Epoca 128 | Loss: 0.9355066 |  Recon. Loss: 0.0242516 | KL Loss: 1.0762855]\n",
            "[ Epoca 129 | Loss: 1.1206142 |  Recon. Loss: 0.024341 | KL Loss: 1.2846951]\n",
            "[ Epoca 130 | Loss: 0.163144 |  Recon. Loss: 0.0241541 | KL Loss: 0.1616162]\n",
            "[ Epoca 131 | Loss: 0.4681377 |  Recon. Loss: 0.0241308 | KL Loss: 0.5123156]\n",
            "[ Epoca 132 | Loss: 0.2479676 |  Recon. Loss: 0.0240896 | KL Loss: 0.2563489]\n",
            "[ Epoca 133 | Loss: 0.348002 |  Recon. Loss: 0.0241028 | KL Loss: 0.3680672]\n",
            "[ Epoca 134 | Loss: 0.1739801 |  Recon. Loss: 0.0245352 | KL Loss: 0.1685469]\n",
            "[ Epoca 135 | Loss: 0.3983384 |  Recon. Loss: 0.0244146 | KL Loss: 0.4185714]\n",
            "[ Epoca 136 | Loss: 0.1980493 |  Recon. Loss: 0.0242117 | KL Loss: 0.193153]\n",
            "[ Epoca 137 | Loss: 0.3293991 |  Recon. Loss: 0.0242643 | KL Loss: 0.3365457]\n",
            "[ Epoca 138 | Loss: 0.2823448 |  Recon. Loss: 0.0240872 | KL Loss: 0.2827638]\n",
            "[ Epoca 139 | Loss: 0.1726214 |  Recon. Loss: 0.0244141 | KL Loss: 0.1610949]\n",
            "[ Epoca 140 | Loss: 0.27148 |  Recon. Loss: 0.0240271 | KL Loss: 0.2670355]\n",
            "[ Epoca 141 | Loss: 0.0999361 |  Recon. Loss: 0.0239585 | KL Loss: 0.0814046]\n",
            "[ Epoca 142 | Loss: 0.210075 |  Recon. Loss: 0.0240302 | KL Loss: 0.19792]\n",
            "[ Epoca 143 | Loss: 0.0800766 |  Recon. Loss: 0.0244571 | KL Loss: 0.0587529]\n",
            "[ Epoca 144 | Loss: 0.1766489 |  Recon. Loss: 0.0240589 | KL Loss: 0.1600595]\n",
            "[ Epoca 145 | Loss: 0.0586219 |  Recon. Loss: 0.0243165 | KL Loss: 0.0357347]\n",
            "[ Epoca 146 | Loss: 0.1678723 |  Recon. Loss: 0.0240574 | KL Loss: 0.148774]\n",
            "[ Epoca 147 | Loss: 0.0508664 |  Recon. Loss: 0.024113 | KL Loss: 0.0274864]\n",
            "[ Epoca 148 | Loss: 0.1340296 |  Recon. Loss: 0.0241679 | KL Loss: 0.1121038]\n",
            "[ Epoca 149 | Loss: 0.0932734 |  Recon. Loss: 0.0240305 | KL Loss: 0.0701786]\n",
            "[ Epoca 150 | Loss: 0.0631332 |  Recon. Loss: 0.0240339 | KL Loss: 0.0393617]\n",
            "[ Epoca 151 | Loss: 0.133078 |  Recon. Loss: 0.0243473 | KL Loss: 0.1087307]\n",
            "[ Epoca 152 | Loss: 0.062065 |  Recon. Loss: 0.025416 | KL Loss: 0.0366489]\n",
            "[ Epoca 153 | Loss: 0.0667873 |  Recon. Loss: 0.0240519 | KL Loss: 0.0427354]\n",
            "[ Epoca 154 | Loss: 0.1123626 |  Recon. Loss: 0.0242495 | KL Loss: 0.088113]\n",
            "[ Epoca 155 | Loss: 0.054794 |  Recon. Loss: 0.0243468 | KL Loss: 0.0304472]\n",
            "[ Epoca 156 | Loss: 0.0563879 |  Recon. Loss: 0.0239088 | KL Loss: 0.0324791]\n",
            "[ Epoca 157 | Loss: 0.092586 |  Recon. Loss: 0.0240078 | KL Loss: 0.0685782]\n",
            "[ Epoca 158 | Loss: 0.0518883 |  Recon. Loss: 0.0242792 | KL Loss: 0.0276091]\n",
            "[ Epoca 159 | Loss: 0.0449932 |  Recon. Loss: 0.0239355 | KL Loss: 0.0210577]\n",
            "[ Epoca 160 | Loss: 0.0788228 |  Recon. Loss: 0.0241831 | KL Loss: 0.0546397]\n",
            "[ Epoca 161 | Loss: 0.0536404 |  Recon. Loss: 0.0241062 | KL Loss: 0.0295343]\n",
            "[ Epoca 162 | Loss: 0.0380989 |  Recon. Loss: 0.0240417 | KL Loss: 0.0140572]\n",
            "[ Epoca 163 | Loss: 0.0637216 |  Recon. Loss: 0.0240855 | KL Loss: 0.0396361]\n",
            "[ Epoca 164 | Loss: 0.0503084 |  Recon. Loss: 0.0239619 | KL Loss: 0.0263465]\n",
            "[ Epoca 165 | Loss: 0.0320568 |  Recon. Loss: 0.024008 | KL Loss: 0.0080488]\n",
            "[ Epoca 166 | Loss: 0.0501636 |  Recon. Loss: 0.0239469 | KL Loss: 0.0262167]\n",
            "[ Epoca 167 | Loss: 0.0465719 |  Recon. Loss: 0.0239215 | KL Loss: 0.0226504]\n",
            "[ Epoca 168 | Loss: 0.0310325 |  Recon. Loss: 0.0239396 | KL Loss: 0.0070929]\n",
            "[ Epoca 169 | Loss: 0.0433793 |  Recon. Loss: 0.0240455 | KL Loss: 0.0193338]\n",
            "[ Epoca 170 | Loss: 0.044714 |  Recon. Loss: 0.0239507 | KL Loss: 0.0207632]\n",
            "[ Epoca 171 | Loss: 0.031562 |  Recon. Loss: 0.024088 | KL Loss: 0.007474]\n",
            "[ Epoca 172 | Loss: 0.0382092 |  Recon. Loss: 0.0241576 | KL Loss: 0.0140516]\n",
            "[ Epoca 173 | Loss: 0.041822 |  Recon. Loss: 0.0239459 | KL Loss: 0.0178762]\n",
            "[ Epoca 174 | Loss: 0.0314822 |  Recon. Loss: 0.0242256 | KL Loss: 0.0072566]\n",
            "[ Epoca 175 | Loss: 0.0337709 |  Recon. Loss: 0.0241408 | KL Loss: 0.0096301]\n",
            "[ Epoca 176 | Loss: 0.0391395 |  Recon. Loss: 0.0239022 | KL Loss: 0.0152373]\n",
            "[ Epoca 177 | Loss: 0.0322208 |  Recon. Loss: 0.0238887 | KL Loss: 0.0083322]\n",
            "[ Epoca 178 | Loss: 0.0312245 |  Recon. Loss: 0.0239355 | KL Loss: 0.007289]\n",
            "[ Epoca 179 | Loss: 0.0368342 |  Recon. Loss: 0.0239891 | KL Loss: 0.012845]\n",
            "[ Epoca 180 | Loss: 0.034085 |  Recon. Loss: 0.0242124 | KL Loss: 0.0098726]\n",
            "[ Epoca 181 | Loss: 0.0307039 |  Recon. Loss: 0.0239026 | KL Loss: 0.0068013]\n",
            "[ Epoca 182 | Loss: 0.0345799 |  Recon. Loss: 0.023856 | KL Loss: 0.0107239]\n",
            "[ Epoca 183 | Loss: 0.0353098 |  Recon. Loss: 0.0238499 | KL Loss: 0.0114599]\n",
            "[ Epoca 184 | Loss: 0.03329 |  Recon. Loss: 0.0239458 | KL Loss: 0.0093442]\n",
            "[ Epoca 185 | Loss: 0.0367972 |  Recon. Loss: 0.0238425 | KL Loss: 0.0129547]\n",
            "[ Epoca 186 | Loss: 0.0434652 |  Recon. Loss: 0.0238218 | KL Loss: 0.0196434]\n",
            "[ Epoca 187 | Loss: 0.051605 |  Recon. Loss: 0.0238763 | KL Loss: 0.0277288]\n",
            "[ Epoca 188 | Loss: 0.0717734 |  Recon. Loss: 0.023886 | KL Loss: 0.0478874]\n",
            "[ Epoca 189 | Loss: 0.1155521 |  Recon. Loss: 0.0239239 | KL Loss: 0.0916283]\n",
            "[ Epoca 190 | Loss: 0.1890088 |  Recon. Loss: 0.0238539 | KL Loss: 0.1651548]\n",
            "[ Epoca 191 | Loss: 0.2801756 |  Recon. Loss: 0.0239366 | KL Loss: 0.256239]\n",
            "[ Epoca 192 | Loss: 0.3058562 |  Recon. Loss: 0.0239542 | KL Loss: 0.281902]\n",
            "[ Epoca 193 | Loss: 0.171295 |  Recon. Loss: 0.0238415 | KL Loss: 0.1474535]\n",
            "[ Epoca 194 | Loss: 0.0333666 |  Recon. Loss: 0.0239088 | KL Loss: 0.0094578]\n",
            "[ Epoca 195 | Loss: 0.102181 |  Recon. Loss: 0.0238882 | KL Loss: 0.0782928]\n",
            "[ Epoca 196 | Loss: 0.1359731 |  Recon. Loss: 0.0238434 | KL Loss: 0.1121297]\n",
            "[ Epoca 197 | Loss: 0.0388653 |  Recon. Loss: 0.0240541 | KL Loss: 0.0148112]\n",
            "[ Epoca 198 | Loss: 0.0840531 |  Recon. Loss: 0.0238661 | KL Loss: 0.060187]\n",
            "[ Epoca 199 | Loss: 0.0843095 |  Recon. Loss: 0.0239119 | KL Loss: 0.0603977]\n",
            "[ Epoca 200 | Loss: 0.0404362 |  Recon. Loss: 0.023919 | KL Loss: 0.0165172]\n",
            "[ Epoca 201 | Loss: 0.087571 |  Recon. Loss: 0.0238668 | KL Loss: 0.0637042]\n",
            "[ Epoca 202 | Loss: 0.0440418 |  Recon. Loss: 0.0239299 | KL Loss: 0.0201118]\n",
            "[ Epoca 203 | Loss: 0.0677307 |  Recon. Loss: 0.0238664 | KL Loss: 0.0438643]\n",
            "[ Epoca 204 | Loss: 0.0572952 |  Recon. Loss: 0.0238088 | KL Loss: 0.0334864]\n",
            "[ Epoca 205 | Loss: 0.0505538 |  Recon. Loss: 0.0238343 | KL Loss: 0.0267195]\n",
            "[ Epoca 206 | Loss: 0.0642953 |  Recon. Loss: 0.0239164 | KL Loss: 0.0403789]\n",
            "[ Epoca 207 | Loss: 0.0418511 |  Recon. Loss: 0.023878 | KL Loss: 0.0179732]\n",
            "[ Epoca 208 | Loss: 0.0626738 |  Recon. Loss: 0.023857 | KL Loss: 0.0388169]\n",
            "[ Epoca 209 | Loss: 0.0405545 |  Recon. Loss: 0.0238075 | KL Loss: 0.0167469]\n",
            "[ Epoca 210 | Loss: 0.0543621 |  Recon. Loss: 0.0238921 | KL Loss: 0.03047]\n",
            "[ Epoca 211 | Loss: 0.0446151 |  Recon. Loss: 0.0239188 | KL Loss: 0.0206963]\n",
            "[ Epoca 212 | Loss: 0.0429423 |  Recon. Loss: 0.0238531 | KL Loss: 0.0190892]\n",
            "[ Epoca 213 | Loss: 0.0487164 |  Recon. Loss: 0.0237853 | KL Loss: 0.0249312]\n",
            "[ Epoca 214 | Loss: 0.0353728 |  Recon. Loss: 0.0238276 | KL Loss: 0.0115452]\n",
            "[ Epoca 215 | Loss: 0.0461786 |  Recon. Loss: 0.0238064 | KL Loss: 0.0223722]\n",
            "[ Epoca 216 | Loss: 0.0372914 |  Recon. Loss: 0.0237889 | KL Loss: 0.0135024]\n",
            "[ Epoca 217 | Loss: 0.0363172 |  Recon. Loss: 0.0238309 | KL Loss: 0.0124863]\n",
            "[ Epoca 218 | Loss: 0.0419694 |  Recon. Loss: 0.0238339 | KL Loss: 0.0181356]\n",
            "[ Epoca 219 | Loss: 0.0323704 |  Recon. Loss: 0.0237993 | KL Loss: 0.0085711]\n",
            "[ Epoca 220 | Loss: 0.0359356 |  Recon. Loss: 0.0238617 | KL Loss: 0.0120739]\n",
            "[ Epoca 221 | Loss: 0.0380128 |  Recon. Loss: 0.0238305 | KL Loss: 0.0141823]\n",
            "[ Epoca 222 | Loss: 0.0307098 |  Recon. Loss: 0.0237882 | KL Loss: 0.0069216]\n",
            "[ Epoca 223 | Loss: 0.0333407 |  Recon. Loss: 0.0238142 | KL Loss: 0.0095265]\n",
            "[ Epoca 224 | Loss: 0.0360539 |  Recon. Loss: 0.0238227 | KL Loss: 0.0122312]\n",
            "[ Epoca 225 | Loss: 0.0306761 |  Recon. Loss: 0.0237846 | KL Loss: 0.0068915]\n",
            "[ Epoca 226 | Loss: 0.0299711 |  Recon. Loss: 0.0238036 | KL Loss: 0.0061676]\n",
            "[ Epoca 227 | Loss: 0.0338577 |  Recon. Loss: 0.0238428 | KL Loss: 0.0100149]\n",
            "[ Epoca 228 | Loss: 0.0325111 |  Recon. Loss: 0.0238169 | KL Loss: 0.0086942]\n",
            "[ Epoca 229 | Loss: 0.0287242 |  Recon. Loss: 0.0238126 | KL Loss: 0.0049116]\n",
            "[ Epoca 230 | Loss: 0.0293141 |  Recon. Loss: 0.0237885 | KL Loss: 0.0055256]\n",
            "[ Epoca 231 | Loss: 0.032044 |  Recon. Loss: 0.0238248 | KL Loss: 0.0082192]\n",
            "[ Epoca 232 | Loss: 0.0317037 |  Recon. Loss: 0.023799 | KL Loss: 0.0079047]\n",
            "[ Epoca 233 | Loss: 0.0291299 |  Recon. Loss: 0.0238613 | KL Loss: 0.0052685]\n",
            "[ Epoca 234 | Loss: 0.0277653 |  Recon. Loss: 0.0237871 | KL Loss: 0.0039782]\n",
            "[ Epoca 235 | Loss: 0.028877 |  Recon. Loss: 0.0237836 | KL Loss: 0.0050935]\n",
            "[ Epoca 236 | Loss: 0.0305949 |  Recon. Loss: 0.023782 | KL Loss: 0.0068129]\n",
            "[ Epoca 237 | Loss: 0.0311413 |  Recon. Loss: 0.0237783 | KL Loss: 0.007363]\n",
            "[ Epoca 238 | Loss: 0.0303937 |  Recon. Loss: 0.0237603 | KL Loss: 0.0066335]\n",
            "[ Epoca 239 | Loss: 0.0296181 |  Recon. Loss: 0.023775 | KL Loss: 0.0058431]\n",
            "[ Epoca 240 | Loss: 0.0306377 |  Recon. Loss: 0.0237941 | KL Loss: 0.0068436]\n",
            "[ Epoca 241 | Loss: 0.0366166 |  Recon. Loss: 0.0238272 | KL Loss: 0.0127894]\n",
            "[ Epoca 242 | Loss: 0.0565043 |  Recon. Loss: 0.0238108 | KL Loss: 0.0326935]\n",
            "[ Epoca 243 | Loss: 0.1203594 |  Recon. Loss: 0.0237682 | KL Loss: 0.0965912]\n",
            "[ Epoca 244 | Loss: 0.3200559 |  Recon. Loss: 0.0237769 | KL Loss: 0.296279]\n",
            "[ Epoca 245 | Loss: 0.8268784 |  Recon. Loss: 0.0238104 | KL Loss: 0.803068]\n",
            "[ Epoca 246 | Loss: 1.3799477 |  Recon. Loss: 0.0237497 | KL Loss: 1.356198]\n",
            "[ Epoca 247 | Loss: 0.6420385 |  Recon. Loss: 0.0237744 | KL Loss: 0.6182641]\n",
            "[ Epoca 248 | Loss: 0.1407109 |  Recon. Loss: 0.0237843 | KL Loss: 0.1169266]\n",
            "[ Epoca 249 | Loss: 0.5006472 |  Recon. Loss: 0.0237739 | KL Loss: 0.4768733]\n",
            "[ Epoca 250 | Loss: 0.1413984 |  Recon. Loss: 0.0237849 | KL Loss: 0.1176135]\n",
            "[ Epoca 251 | Loss: 0.2954312 |  Recon. Loss: 0.0237894 | KL Loss: 0.2716418]\n",
            "[ Epoca 252 | Loss: 0.3363008 |  Recon. Loss: 0.0237674 | KL Loss: 0.3125333]\n",
            "[ Epoca 253 | Loss: 0.218878 |  Recon. Loss: 0.0238459 | KL Loss: 0.1950321]\n",
            "[ Epoca 254 | Loss: 0.3718018 |  Recon. Loss: 0.023769 | KL Loss: 0.3480328]\n",
            "[ Epoca 255 | Loss: 0.2854956 |  Recon. Loss: 0.0237633 | KL Loss: 0.2617323]\n",
            "[ Epoca 256 | Loss: 0.1679049 |  Recon. Loss: 0.0237838 | KL Loss: 0.1441211]\n",
            "[ Epoca 257 | Loss: 0.2512634 |  Recon. Loss: 0.0237776 | KL Loss: 0.2274857]\n",
            "[ Epoca 258 | Loss: 0.1125392 |  Recon. Loss: 0.0237868 | KL Loss: 0.0887524]\n",
            "[ Epoca 259 | Loss: 0.1438546 |  Recon. Loss: 0.0237708 | KL Loss: 0.1200838]\n",
            "[ Epoca 260 | Loss: 0.1316964 |  Recon. Loss: 0.0237937 | KL Loss: 0.1079027]\n",
            "[ Epoca 261 | Loss: 0.0820723 |  Recon. Loss: 0.0238158 | KL Loss: 0.0582564]\n",
            "[ Epoca 262 | Loss: 0.1326626 |  Recon. Loss: 0.0237584 | KL Loss: 0.1089042]\n",
            "[ Epoca 263 | Loss: 0.0630749 |  Recon. Loss: 0.023787 | KL Loss: 0.0392879]\n",
            "[ Epoca 264 | Loss: 0.1168176 |  Recon. Loss: 0.0237964 | KL Loss: 0.0930212]\n",
            "[ Epoca 265 | Loss: 0.0646435 |  Recon. Loss: 0.0237948 | KL Loss: 0.0408487]\n",
            "[ Epoca 266 | Loss: 0.0894317 |  Recon. Loss: 0.0237683 | KL Loss: 0.0656634]\n",
            "[ Epoca 267 | Loss: 0.0790859 |  Recon. Loss: 0.0237862 | KL Loss: 0.0552997]\n",
            "[ Epoca 268 | Loss: 0.0561609 |  Recon. Loss: 0.0237545 | KL Loss: 0.0324064]\n",
            "[ Epoca 269 | Loss: 0.0942502 |  Recon. Loss: 0.0237786 | KL Loss: 0.0704717]\n",
            "[ Epoca 270 | Loss: 0.0336672 |  Recon. Loss: 0.0237677 | KL Loss: 0.0098995]\n",
            "[ Epoca 271 | Loss: 0.090624 |  Recon. Loss: 0.0237607 | KL Loss: 0.0668633]\n",
            "[ Epoca 272 | Loss: 0.0377638 |  Recon. Loss: 0.0238035 | KL Loss: 0.0139603]\n",
            "[ Epoca 273 | Loss: 0.0632722 |  Recon. Loss: 0.0237536 | KL Loss: 0.0395186]\n",
            "[ Epoca 274 | Loss: 0.0584683 |  Recon. Loss: 0.0237642 | KL Loss: 0.0347042]\n",
            "[ Epoca 275 | Loss: 0.0351445 |  Recon. Loss: 0.0237647 | KL Loss: 0.0113798]\n",
            "[ Epoca 276 | Loss: 0.0669218 |  Recon. Loss: 0.023768 | KL Loss: 0.0431538]\n",
            "[ Epoca 277 | Loss: 0.0305673 |  Recon. Loss: 0.0237474 | KL Loss: 0.0068199]\n",
            "[ Epoca 278 | Loss: 0.0521538 |  Recon. Loss: 0.0237748 | KL Loss: 0.028379]\n",
            "[ Epoca 279 | Loss: 0.0435416 |  Recon. Loss: 0.0237467 | KL Loss: 0.0197949]\n",
            "[ Epoca 280 | Loss: 0.0332862 |  Recon. Loss: 0.0237515 | KL Loss: 0.0095347]\n",
            "[ Epoca 281 | Loss: 0.0500023 |  Recon. Loss: 0.0237729 | KL Loss: 0.0262294]\n",
            "[ Epoca 282 | Loss: 0.0295597 |  Recon. Loss: 0.0237425 | KL Loss: 0.0058172]\n",
            "[ Epoca 283 | Loss: 0.0416024 |  Recon. Loss: 0.0237551 | KL Loss: 0.0178473]\n",
            "[ Epoca 284 | Loss: 0.0368181 |  Recon. Loss: 0.023746 | KL Loss: 0.0130722]\n",
            "[ Epoca 285 | Loss: 0.0309433 |  Recon. Loss: 0.0237604 | KL Loss: 0.0071829]\n",
            "[ Epoca 286 | Loss: 0.0399552 |  Recon. Loss: 0.023744 | KL Loss: 0.0162111]\n",
            "[ Epoca 287 | Loss: 0.0293005 |  Recon. Loss: 0.0237677 | KL Loss: 0.0055328]\n",
            "[ Epoca 288 | Loss: 0.034709 |  Recon. Loss: 0.0237651 | KL Loss: 0.0109439]\n",
            "[ Epoca 289 | Loss: 0.0334273 |  Recon. Loss: 0.0237681 | KL Loss: 0.0096593]\n",
            "[ Epoca 290 | Loss: 0.0290032 |  Recon. Loss: 0.023805 | KL Loss: 0.0051982]\n",
            "[ Epoca 291 | Loss: 0.0343797 |  Recon. Loss: 0.02375 | KL Loss: 0.0106296]\n",
            "[ Epoca 292 | Loss: 0.0288405 |  Recon. Loss: 0.02374 | KL Loss: 0.0051005]\n",
            "[ Epoca 293 | Loss: 0.030642 |  Recon. Loss: 0.0237473 | KL Loss: 0.0068946]\n",
            "[ Epoca 294 | Loss: 0.0313576 |  Recon. Loss: 0.0237454 | KL Loss: 0.0076122]\n",
            "[ Epoca 295 | Loss: 0.0277275 |  Recon. Loss: 0.0237605 | KL Loss: 0.003967]\n",
            "[ Epoca 296 | Loss: 0.0310466 |  Recon. Loss: 0.0237419 | KL Loss: 0.0073047]\n",
            "[ Epoca 297 | Loss: 0.0285301 |  Recon. Loss: 0.0237689 | KL Loss: 0.0047613]\n",
            "[ Epoca 298 | Loss: 0.0283543 |  Recon. Loss: 0.0237617 | KL Loss: 0.0045926]\n",
            "[ Epoca 299 | Loss: 0.0298749 |  Recon. Loss: 0.0237682 | KL Loss: 0.0061067]\n",
            "[ Epoca 300 | Loss: 0.0272289 |  Recon. Loss: 0.0237567 | KL Loss: 0.0034721]\n"
          ]
        }
      ],
      "source": [
        "# Treinando a representação do modelo\n",
        "clear_session()\n",
        "signal_losses, kl_losses = model.train(data, config.epochs, optimizer)"
      ]
    },
    {
      "cell_type": "code",
      "source": [
        "# Treinando o modelo com adversarial fine-tuning\n",
        "#clear_session()\n",
        "#discriminator_optimizer = tf.keras.optimizers.Adam(learning_rate=config.discr_learning_rate)\n",
        "#generator_losses, discriminator_losses = model.adversarial_fine_tuning_train(data, config.epochs, optimizer, discriminator_optimizer)"
      ],
      "metadata": {
        "id": "4y5mNjvFHPuF"
      },
      "execution_count": null,
      "outputs": []
    },
    {
      "cell_type": "code",
      "execution_count": null,
      "metadata": {
        "id": "l2DfpzgngTUa"
      },
      "outputs": [],
      "source": [
        "end_time = time.time()\n",
        "execution_time = end_time - start_time\n",
        "execution_time = str(round(execution_time, 2))"
      ]
    },
    {
      "cell_type": "code",
      "source": [
        "# Avaliando espaço latente\n",
        "# reduced_latent = model.compact_latent_representation(data)"
      ],
      "metadata": {
        "id": "c2UiN1YdvXX7"
      },
      "execution_count": null,
      "outputs": []
    },
    {
      "cell_type": "code",
      "execution_count": null,
      "metadata": {
        "id": "XjYPDGfigWEY"
      },
      "outputs": [],
      "source": [
        "# Obtendo medias MU para visualização do espaço latente\n",
        "mu = model.encode(data)[0]\n",
        "mu = mu.numpy()"
      ]
    },
    {
      "cell_type": "code",
      "execution_count": null,
      "metadata": {
        "id": "FNSeKoevgZZ0",
        "colab": {
          "base_uri": "https://localhost:8080/"
        },
        "outputId": "bc64a667-44cc-45e7-a92a-dca8d67aac9c"
      },
      "outputs": [
        {
          "output_type": "stream",
          "name": "stdout",
          "text": [
            "################################################################################################################\n",
            "[TREINAMENTOS CONCLUIDOS]\n",
            "Tempo de execução: 197.14 segundos\n",
            "\n",
            "################################################################################################################\n",
            "\n",
            "[Salvando metadados de IU2675]\n",
            "[Metadados salvos em /content/drive/MyDrive/VAE_TCC/results/results_spectrogram_metadata.txt]\n",
            "\n",
            "[Graficos salvos em /content/drive/MyDrive/VAE_TCC/graphs/IU2675.png]\n",
            "\n"
          ]
        }
      ],
      "source": [
        "utils.show_results(execution_time)\n",
        "utils.save_metadata(current_id, execution_time)\n",
        "utils.save_graphs(current_id, signal_losses, kl_losses, mu, config.compact_latent_space, None)"
      ]
    },
    {
      "cell_type": "code",
      "execution_count": null,
      "metadata": {
        "id": "dvIbtQBYj0CY"
      },
      "outputs": [],
      "source": [
        "# Gerando N espectrogramas a partir do espaço latente\n",
        "generated = model.sample(config.num_samples_generate, data, config.compact_latent_space)"
      ]
    },
    {
      "cell_type": "code",
      "execution_count": null,
      "metadata": {
        "id": "RZGAr1yzj02c",
        "colab": {
          "base_uri": "https://localhost:8080/"
        },
        "outputId": "f6864775-69dd-4065-c8d9-e4282465142f"
      },
      "outputs": [
        {
          "output_type": "stream",
          "name": "stdout",
          "text": [
            "[ Salvando resultado gerado 1 ] - IU2675\n",
            "[ Salvando resultado gerado 2 ] - IU2675\n",
            "[ Salvando resultado gerado 3 ] - IU2675\n",
            "[ Salvando resultado gerado 4 ] - IU2675\n",
            "[ Salvando resultado gerado 5 ] - IU2675\n"
          ]
        }
      ],
      "source": [
        "# Para cada espectrograma gerado, salva o resultado em formato de áudio e em um arquivo txt\n",
        "for i in range(config.num_samples_generate):\n",
        "    curr_gen = generated[i]\n",
        "    file_result = base_path + '/results/generated_audio_' + current_id + '_' + str(i+1) + '.ogg'\n",
        "    #generated_audio = audio_data.mel_spectrogram_to_audio(curr_gen.numpy().reshape(curr_gen.shape[0], curr_gen.shape[1]))\n",
        "    print(f\"[ Salvando resultado gerado {i + 1} ] - {current_id}\")\n",
        "    sf.write(file_result, curr_gen, config.audio_rate)"
      ]
    }
  ],
  "metadata": {
    "colab": {
      "provenance": [],
      "authorship_tag": "ABX9TyN3/KDcyf8L+WHpIKvVpAxV",
      "include_colab_link": true
    },
    "kernelspec": {
      "display_name": "Python 3",
      "name": "python3"
    },
    "language_info": {
      "name": "python"
    }
  },
  "nbformat": 4,
  "nbformat_minor": 0
}